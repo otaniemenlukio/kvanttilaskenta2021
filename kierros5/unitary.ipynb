{
 "cells": [
  {
   "cell_type": "code",
   "execution_count": 2,
   "id": "handy-assault",
   "metadata": {},
   "outputs": [
    {
     "name": "stdout",
     "output_type": "stream",
     "text": [
      "matriisi M\n",
      "[[ 0.          0.          0.70710678  0.70710678]\n",
      " [ 0.70710678 -0.70710678  0.          0.        ]\n",
      " [ 0.70710678  0.70710678  0.          0.        ]\n",
      " [ 0.          0.          0.70710678 -0.70710678]]\n",
      "kantavektori\n",
      "[[1]\n",
      " [0]\n",
      " [0]\n",
      " [0]]\n",
      "lasketaan matriisin M ja kantavektorin tulo\n",
      "[[0.        ]\n",
      " [0.70710678]\n",
      " [0.70710678]\n",
      " [0.        ]]\n",
      "onko unitaarinen\n",
      "[[ 0.5  0.5  0.5 -0.5]\n",
      " [-0.5  0.5  0.5  0.5]\n",
      " [ 0.5 -0.5  0.5  0.5]\n",
      " [ 0.5  0.5 -0.5  0.5]]\n",
      "[[0 1]\n",
      " [1 0]]\n",
      "Not portti on unitarinen: xx=I\n",
      "[[1 0]\n",
      " [0 1]]\n",
      "lasketaan M:n ja Bellin tilan tulo\n",
      "[[ 0.5]\n",
      " [-0.5]\n",
      " [ 0.5]\n",
      " [ 0.5]]\n"
     ]
    }
   ],
   "source": [
    "import numpy as np\n",
    "import math\n",
    "\n",
    "k = 1 /math.sqrt(2)\n",
    "print(\"matriisi M\")\n",
    "M = np.array([[0,0,k,k], [k,-k,0,0], [k, k, 0,0], [0,0,k,-k]])\n",
    "print(M)\n",
    "\n",
    "print(\"kantavektori\")\n",
    "q00 =np.array([[1],[0],[0],[0]])\n",
    "print(q00)\n",
    "\n",
    "print(\"lasketaan matriisin M ja kantavektorin tulo\")\n",
    "print(M@q00)\n",
    "\n",
    "print(\"onko unitaarinen\")\n",
    "print(M@M)\n",
    "\n",
    "X = np.array([[0,1], [1,0]])\n",
    "print(X)\n",
    "\n",
    "print(\"Not portti on unitarinen: xx=I\")\n",
    "print(X@X)\n",
    "\n",
    "print(\"lasketaan M:n ja Bellin tilan tulo\")\n",
    "print(M@M@q00)"
   ]
  },
  {
   "cell_type": "code",
   "execution_count": null,
   "id": "important-gateway",
   "metadata": {},
   "outputs": [],
   "source": []
  }
 ],
 "metadata": {
  "kernelspec": {
   "display_name": "Python 3",
   "language": "python",
   "name": "python3"
  },
  "language_info": {
   "codemirror_mode": {
    "name": "ipython",
    "version": 3
   },
   "file_extension": ".py",
   "mimetype": "text/x-python",
   "name": "python",
   "nbconvert_exporter": "python",
   "pygments_lexer": "ipython3",
   "version": "3.9.1"
  }
 },
 "nbformat": 4,
 "nbformat_minor": 5
}
