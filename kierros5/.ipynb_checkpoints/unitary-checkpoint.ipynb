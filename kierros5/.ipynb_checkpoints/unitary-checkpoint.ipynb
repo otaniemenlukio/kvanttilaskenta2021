{
 "cells": [
  {
   "cell_type": "code",
   "execution_count": 4,
   "id": "handy-assault",
   "metadata": {},
   "outputs": [
    {
     "name": "stdout",
     "output_type": "stream",
     "text": [
      "matriisi M\n",
      "[[ 0.          0.          0.70710678  0.70710678]\n",
      " [ 0.70710678 -0.70710678  0.          0.        ]\n",
      " [ 0.70710678  0.70710678  0.          0.        ]\n",
      " [ 0.          0.          0.70710678 -0.70710678]]\n",
      "kantavektori\n",
      "[[1]\n",
      " [0]\n",
      " [0]\n",
      " [0]]\n",
      "lasketaan matriisin M ja kantavektorin tulo\n",
      "[[0.        ]\n",
      " [0.70710678]\n",
      " [0.70710678]\n",
      " [0.        ]]\n",
      "Muodostetaan Matriisin M käänteismatriisi laskemalla M:n transpoosin kompleksikonjukaatti:\n",
      "[[ 0.          0.70710678  0.70710678  0.        ]\n",
      " [ 0.         -0.70710678  0.70710678  0.        ]\n",
      " [ 0.70710678  0.          0.          0.70710678]\n",
      " [ 0.70710678  0.          0.         -0.70710678]]\n",
      "Onko M unitaarinen, lasketaan M:n ja sen kompleksikonjukaatin transpoosin tulo\n",
      "[[ 1.00000000e+00  0.00000000e+00  0.00000000e+00 -2.23711432e-17]\n",
      " [ 0.00000000e+00  1.00000000e+00 -2.23711432e-17  0.00000000e+00]\n",
      " [ 0.00000000e+00 -2.23711432e-17  1.00000000e+00  0.00000000e+00]\n",
      " [-2.23711432e-17  0.00000000e+00  0.00000000e+00  1.00000000e+00]]\n",
      "[[0 1]\n",
      " [1 0]]\n",
      "Not-portti X on unitarinen: xx=I\n",
      "[[1 0]\n",
      " [0 1]]\n",
      "Bellin tila: \n",
      "[[0.        ]\n",
      " [0.70710678]\n",
      " [0.70710678]\n",
      " [0.        ]]\n",
      "lasketaan M_inv:n ja Bellin tilan tulo\n",
      "[[1.]\n",
      " [0.]\n",
      " [0.]\n",
      " [0.]]\n"
     ]
    }
   ],
   "source": [
    "import numpy as np\n",
    "import math\n",
    "\n",
    "k = 1 /math.sqrt(2)\n",
    "print(\"matriisi M\")\n",
    "M = np.array([[0,0,k,k], [k,-k,0,0], [k, k, 0,0], [0,0,k,-k]])\n",
    "print(M)\n",
    "\n",
    "print(\"kantavektori\")\n",
    "q00 =np.array([[1],[0],[0],[0]])\n",
    "print(q00)\n",
    "\n",
    "print(\"lasketaan matriisin M ja kantavektorin tulo\")\n",
    "print(M@q00)\n",
    "\n",
    "print(\"Muodostetaan Matriisin M käänteismatriisi laskemalla M:n transpoosin kompleksikonjukaatti:\")\n",
    "M_inv = M.transpose()\n",
    "print(M_inv)\n",
    "print(\"Onko M unitaarinen, lasketaan M:n ja sen kompleksikonjukaatin transpoosin tulo\")\n",
    "print(M@M_inv)\n",
    "\n",
    "X = np.array([[0,1], [1,0]])\n",
    "print(X)\n",
    "\n",
    "\n",
    "print(\"Not-portti X on unitarinen: xx=I\")\n",
    "print(X@X)\n",
    "\n",
    "\n",
    "print(\"Bellin tila: \")\n",
    "Bell_state = M@q00\n",
    "print(Bell_state)\n",
    "\n",
    "print(\"lasketaan M_inv:n ja Bellin tilan tulo\")\n",
    "print(M_inv@Bell_state)"
   ]
  },
  {
   "cell_type": "code",
   "execution_count": null,
   "id": "important-gateway",
   "metadata": {},
   "outputs": [],
   "source": []
  }
 ],
 "metadata": {
  "kernelspec": {
   "display_name": "Python 3",
   "language": "python",
   "name": "python3"
  },
  "language_info": {
   "codemirror_mode": {
    "name": "ipython",
    "version": 3
   },
   "file_extension": ".py",
   "mimetype": "text/x-python",
   "name": "python",
   "nbconvert_exporter": "python",
   "pygments_lexer": "ipython3",
   "version": "3.9.1"
  }
 },
 "nbformat": 4,
 "nbformat_minor": 5
}
