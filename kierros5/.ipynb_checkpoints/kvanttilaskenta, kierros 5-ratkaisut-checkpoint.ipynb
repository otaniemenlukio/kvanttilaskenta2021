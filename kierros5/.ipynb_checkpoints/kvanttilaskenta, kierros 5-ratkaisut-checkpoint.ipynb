{
 "cells": [
  {
   "cell_type": "markdown",
   "id": "played-transfer",
   "metadata": {},
   "source": [
    "## Kvanttilaskenta, kierros 5\n",
    "\n",
    "Kierroksella 5 käsiteltävät tehtävät pohjautuvat Qiskit tutoriaaleihin. Voit tutkia kierroksella 5 myös IBM:n alkuperäisiä tutoriaaleja, jotka löytyvät seuraavista linkeistä.\n",
    "\n",
    "<a href=\"https://qiskit.org/textbook/content/ch-gates/multiple-qubits-entangled-states.ipynb\" target=\"_blank\">2.2 Multiple Qubits and Entangled States</a>\n",
    "\n",
    "ja\n",
    "\n",
    "\n",
    "\n",
    "<a href=\"https://qiskit.org/textbook/content/ch-gates/more-circuit-identities.ipynb\" target=\"_blank\">2.2 More Circuit Identities</a>\n",
    "\n",
    "Tehtäviä on 3 kappaletta, tutki niistä 2 kappaletta. Tehtävässä 1 on ket-esityksen harjoittelua. Tehtävissä 2 ja 3 riittää käydä materiaali läpi. Tehtävän 3 voit suorittää myös siten, että ajat esimerkkikoodin kvanttinopasta oikealla kvanttitietokoneella. Kvanttinoppa on kvanttialgoritmilla toteutettu noppa, joka arpoo silmäluvut 1- 6 siten, että kaikilla lopputuloksilla on sama todennäköisyys. Tehtävä 3 kannattaa siis suorittaa oikealla kvanttikoneella.\n",
    "\n",
    "Tehtävät voi palauttaa ma 22.3 luennon jälkeen.\n",
    "\n",
    "### Tehtävä 1, kertaus Bellin tilat ja ket-vektoriesitys\n",
    "\n",
    "Tehtävässä 1 tutkitaan kahden kubitin systeemiä, joten kerraan käytettävien kantavektorien ket- ja pystyvektoriesitys: \n",
    "\n",
    "![base_vectors](images/base_vectors.png)\n",
    "\n",
    "### HUOM. käytämme qiskitin tutoriaalien notaatiota!"
   ]
  },
  {
   "cell_type": "markdown",
   "id": "premier-allah",
   "metadata": {},
   "source": [
    "Kerrataan tarvittavat ket-vektorit ja niiden pystyvektoriesitykset:\n",
    "missä $|0\\rangle=\\begin{bmatrix} 1 \\\\ 0 \\end{bmatrix}$ ja  $|1\\rangle=\\begin{bmatrix} 0 \\\\ 1 \\end{bmatrix}$\n",
    "\n",
    "Yllä esitetyt kahden kubitin tilaa esittävien ket-vektorit ja pystyvektorit perustuvat siis seuraavaan tensoritulon määritelmään:\n",
    "\n",
    "\n",
    "$$ |a\\rangle = \\begin{bmatrix} a_0 \\\\ a_1 \\end{bmatrix}, \\quad |b\\rangle = \\begin{bmatrix} b_0 \\\\ b_1 \\end{bmatrix} $$\n",
    "\n",
    "$$ \n",
    "|ba\\rangle = |b\\rangle \\otimes |a\\rangle = \\begin{bmatrix} b_0 \\times \\begin{bmatrix} a_0 \\\\ a_1 \\end{bmatrix} \\\\ b_1 \\times \\begin{bmatrix} a_0 \\\\ a_1 \\end{bmatrix} \\end{bmatrix} = \\begin{bmatrix} b_0 a_0 \\\\ b_0 a_1 \\\\ b_1 a_0 \\\\ b_1 a_1 \\end{bmatrix}\n",
    "$$\n",
    "\n",
    "\n",
    "Lisäksi tarvitsemme kubitin superpositiotilat $|+\\rangle$ ja  $|-\\rangle$:\n",
    "\n",
    "$$\n",
    "H\\ket 0 = \\frac{1}{\\sqrt 2} (\\ket 0 +  \\ket 1) = \\ket +   \\\\\n",
    "H\\ket 1 = \\frac{1}{\\sqrt 2} (\\ket 0 -  \\ket 1) = \\ket -\n",
    "$$\n",
    "\n",
    "\n",
    "Tuodaan tarvittavat kirjastot ensin käyttöön:"
   ]
  },
  {
   "cell_type": "code",
   "execution_count": 63,
   "id": "neutral-stocks",
   "metadata": {},
   "outputs": [],
   "source": [
    "from qiskit import QuantumCircuit, Aer, assemble\n",
    "from math import pi\n",
    "import numpy as np\n",
    "from qiskit.visualization import plot_histogram, plot_bloch_multivector"
   ]
  },
  {
   "cell_type": "markdown",
   "id": "renewable-sewing",
   "metadata": {},
   "source": [
    "Tehtävässä 1 on tavoitteena tutkia miten CNOT-portti vaikuttaa kahden kubitin systeemiin \n",
    "$$\n",
    "|0{+}\\rangle = |0\\rangle \\otimes |+\\rangle =|0\\rangle( \\frac{1}{\\sqrt{2}}(|0\\rangle + |1\\rangle)) \\frac{1}{\\sqrt{2}}(|00\\rangle + |01\\rangle)\n",
    "$$\n",
    "\n",
    "Muodostetaan ensin tutkittava kahden kubitin systeemi $|0{+}\\rangle $. Aloitetaan superpositiotilan  $|+\\rangle=H|0\\rangle = \\frac{1}{\\sqrt{2}}(|0\\rangle+|1\\rangle)$ muodostamisella operoimalla Hadamard-portilla kubittiin $|0\\rangle$. \n",
    "\n",
    "Alla koodissa 1.Kubitti on superpositiossa, 2.kubitti jää tilaan 0."
   ]
  },
  {
   "cell_type": "code",
   "execution_count": 56,
   "id": "circular-attraction",
   "metadata": {},
   "outputs": [
    {
     "data": {
      "text/html": [
       "<pre style=\"word-wrap: normal;white-space: pre;background: #fff0;line-height: 1.1;font-family: &quot;Courier New&quot;,Courier,monospace\">     ┌───┐\n",
       "q_0: ┤ H ├\n",
       "     └───┘\n",
       "q_1: ─────\n",
       "          </pre>"
      ],
      "text/plain": [
       "     ┌───┐\n",
       "q_0: ┤ H ├\n",
       "     └───┘\n",
       "q_1: ─────\n",
       "          "
      ]
     },
     "execution_count": 56,
     "metadata": {},
     "output_type": "execute_result"
    }
   ],
   "source": [
    "qc = QuantumCircuit(2)# kahden kubitin piiri\n",
    "# Apply H-gate to the first:\n",
    "qc.h(0)\n",
    "qc.draw()"
   ]
  },
  {
   "cell_type": "markdown",
   "id": "victorian-rental",
   "metadata": {},
   "source": [
    "Lasketaan seuraavaksi tensoritulo ket-esityksessä: $|0\\rangle \\otimes |{+}\\rangle = |0{+}\\rangle$, jolloin saadaan määriteltyä kahden kubitin systeemin tilavektori:\n",
    "\n",
    "$$\n",
    "|0{+}\\rangle =|0 \\rangle(\\tfrac{1}{\\sqrt{2}}(|0\\rangle + |1\\rangle)) = \\tfrac{1}{\\sqrt{2}}(|00\\rangle + |01\\rangle)\n",
    "$$\n",
    "\n",
    "\n",
    "Huomaa, että kahden kubitin tilavektorissa jälkimmäinen $|+\\rangle$ on 1.kubitti ja $|0\\rangle$ 2.kubitti. Järjestys voi olla näin, koska kubitit luodaan samanaikaisesti.  Lue tilavektoria oikealta vasemmalle! Järjestyksellä on meille merkitystä kun operoimme kahden kubitin välisellä CNOT-portilla.\n",
    "\n",
    "Kahden kubitin systeemiä esittävien ket-vektorien $|00\\rangle$ ja $|01\\rangle$ pystyvektoriesitys:\n",
    "\n",
    "$|00\\rangle=\\begin{bmatrix} 1 \\\\ 0 \\\\ 0 \\\\0 \\end{bmatrix}$ ja $|01\\rangle=\\begin{bmatrix} 0 \\\\ 1 \\\\ 0 \\\\0 \\end{bmatrix}$.\n",
    "\n",
    "\n",
    "Sama pythonilla, piirretään samalla tilavektorin pystyvektoriesitys $|0{+}\\rangle$: \n",
    "\n",
    "HUOM: Voit asentaa latex- kirjaston komennolla: pip install array_to_latex,\n",
    "jos haluat tulostaa jupyter-notebookissa pystyvektorin"
   ]
  },
  {
   "cell_type": "code",
   "execution_count": 64,
   "id": "controversial-generator",
   "metadata": {},
   "outputs": [
    {
     "data": {
      "text/latex": [
       "$\\displaystyle \n",
       "\\text{Statevector = }\\begin{bmatrix}\n",
       "\\tfrac{1}{\\sqrt{2}} \\\\\n",
       "0 \\\\\n",
       "0 \\\\\n",
       "\\tfrac{1}{\\sqrt{2}}\n",
       "\\end{bmatrix}\n",
       "$"
      ],
      "text/plain": [
       "<IPython.core.display.Math object>"
      ]
     },
     "metadata": {},
     "output_type": "display_data"
    }
   ],
   "source": [
    "#HUOM asennus latex -työkalun asennus: pip install array_to_latex\n",
    "from qiskit_textbook.tools import array_to_latex\n",
    "\n",
    "# Let's see the result:\n",
    "svsim = Aer.get_backend('statevector_simulator')\n",
    "qobj = assemble(qc)\n",
    "final_state = svsim.run(qobj).result().get_statevector()\n",
    "# Print the statevector neatly:\n",
    "array_to_latex(final_state, pretext=\"\\\\text{Statevector = }\")"
   ]
  },
  {
   "cell_type": "markdown",
   "id": "mathematical-ontario",
   "metadata": {},
   "source": [
    "Seuraavaksi tilavektoriin $|0{+}\\rangle$ Operoidaan tilavektoriin CNOT-portilla, 1.kubitti $|+\\rangle$ on ohjaava kubitti ja 2.kubitti on kohde. \n",
    "\n",
    "###  HUOMAA: CNOT-portin matriisiesitys, kun target = 0 ja control =+:\n",
    "\n",
    "\n",
    "\n",
    "$$\n",
    "\\mathit{CNOT} = \\pmatrix {1 & 0 & 0 & 0 \\\\ 0 & 0 & 0 & 1\\\\ 0 & 0 & 1 & 0 \\\\ 0 & 1 & 0 & 0} \n",
    "$$\n",
    "\n",
    "Python-koodi:\n",
    "\n"
   ]
  },
  {
   "cell_type": "code",
   "execution_count": 65,
   "id": "improved-casting",
   "metadata": {},
   "outputs": [
    {
     "data": {
      "text/html": [
       "<pre style=\"word-wrap: normal;white-space: pre;background: #fff0;line-height: 1.1;font-family: &quot;Courier New&quot;,Courier,monospace\">     ┌───┐          \n",
       "q_0: ┤ H ├──■────■──\n",
       "     └───┘┌─┴─┐┌─┴─┐\n",
       "q_1: ─────┤ X ├┤ X ├\n",
       "          └───┘└───┘</pre>"
      ],
      "text/plain": [
       "     ┌───┐          \n",
       "q_0: ┤ H ├──■────■──\n",
       "     └───┘┌─┴─┐┌─┴─┐\n",
       "q_1: ─────┤ X ├┤ X ├\n",
       "          └───┘└───┘"
      ]
     },
     "execution_count": 65,
     "metadata": {},
     "output_type": "execute_result"
    }
   ],
   "source": [
    "# Apply a CNOT:\n",
    "qc.cx(0,1)\n",
    "qc.draw()"
   ]
  },
  {
   "cell_type": "markdown",
   "id": "pending-consolidation",
   "metadata": {},
   "source": []
  },
  {
   "cell_type": "code",
   "execution_count": 66,
   "id": "planned-collaboration",
   "metadata": {},
   "outputs": [
    {
     "data": {
      "text/latex": [
       "$\\displaystyle \n",
       "\\text{Statevector = }\\begin{bmatrix}\n",
       "\\tfrac{1}{\\sqrt{2}} \\\\\n",
       "\\tfrac{1}{\\sqrt{2}} \\\\\n",
       "0 \\\\\n",
       "0\n",
       "\\end{bmatrix}\n",
       "$"
      ],
      "text/plain": [
       "<IPython.core.display.Math object>"
      ]
     },
     "metadata": {},
     "output_type": "display_data"
    }
   ],
   "source": [
    "# Let's get the result:\n",
    "qobj = assemble(qc)\n",
    "result = svsim.run(qobj).result()\n",
    "# Print the statevector neatly:\n",
    "final_state = result.get_statevector()\n",
    "array_to_latex(final_state, pretext=\"\\\\text{Statevector = }\")"
   ]
  },
  {
   "cell_type": "markdown",
   "id": "parliamentary-command",
   "metadata": {},
   "source": [
    "CNOT-portilla operoinnin jälkeen päädyttiin tilaan, joka voidaan esittää ket-esityksessä:\n",
    "    \n",
    "$$\n",
    "\\text{CNOT}|0{+}\\rangle = \\tfrac{1}{\\sqrt{2}}(|00\\rangle + |11\\rangle)\n",
    "$$ \n"
   ]
  },
  {
   "cell_type": "markdown",
   "id": "light-offer",
   "metadata": {},
   "source": [
    "a) Mitkä on CNOT-portilla operoimisen jälkeen mahdollisten mitattavien lopputilojen $|00\\rangle$ ja $|11\\rangle$ todennäköisyydet? Onko lopputila $|01\\rangle$ mahdolllinen? Päättele ketvektoriesityksen kertoimista?\n",
    "\n",
    "\n",
    "b) Tarkista a-kohta simuloimalla tilavektori:"
   ]
  },
  {
   "cell_type": "code",
   "execution_count": 67,
   "id": "complicated-drain",
   "metadata": {},
   "outputs": [
    {
     "data": {
      "image/png": "[encoded data removed]",
      "text/plain": [
       "<Figure size 504x360 with 1 Axes>"
      ]
     },
     "execution_count": 67,
     "metadata": {},
     "output_type": "execute_result"
    }
   ],
   "source": [
    "plot_histogram(result.get_counts())"
   ]
  },
  {
   "cell_type": "markdown",
   "id": "metric-dietary",
   "metadata": {},
   "source": [
    "c) Luo kvanttipiiri, joka luo Bellin tilan $\\tfrac{1}{\\sqrt{2}}(|01\\rangle + |10\\rangle)$."
   ]
  },
  {
   "cell_type": "markdown",
   "id": "atomic-physiology",
   "metadata": {},
   "source": []
  },
  {
   "cell_type": "markdown",
   "id": "beginning-original",
   "metadata": {},
   "source": [
    "d) Ei pakollinen Lisätehtävä:  Muodosta matriisi M, jolla operoimalla tilaan  $|00\\rangle$ saadaan lopputulokseksi tila $\\tfrac{1}{\\sqrt{2}}(|01\\rangle + |10\\rangle)$. Onko matriisi unitaarinen? "
   ]
  },
  {
   "cell_type": "markdown",
   "id": "impaired-shoot",
   "metadata": {},
   "source": [
    "## Tehtävä 1 RATKAISUT\n",
    "\n",
    "a) Molempien tilojen todennäköisyys on 50%, tämä nähdään tilavektorin kertoimesta.\n",
    "\n",
    "$P(|00\\rangle)=P(|11\\rangle)= (\\frac{1}{\\sqrt{2}})^2 =0.5$\n",
    "\n",
    "### HUOMAA: Jos kahden kubitin tilavektorissa 1.kubitti on ohjaava, ja 2.kubitti kohde, niin silloin CNOT:\n",
    "\n",
    "$$\n",
    "\\mathit{CNOT} = \\pmatrix {1 & 0 & 0 & 0 \\\\ 0 & 1 & 0 & 0\\\\ 0 & 0 & 0 & 1 \\\\ 0 & 0 & 1 & 0} \n",
    "$$\n",
    "\n",
    "\n",
    "b)Tehtävän 1 johdantoesimerkin python-koodissa muodostettiin kahden kubitin systeemi ns. Bellintila $|\\phi\\rangle^+$, jonka ket-esitys (ja pystyvektoriesitys) saadaan koodin etenemistä seuraamalla seuraavasti:\n",
    "\n",
    "$$\\frac{1}{\\sqrt{2}}(|0\\rangle+|1\\rangle)\\otimes|0\\rangle=\n",
    "\\frac{1}{\\sqrt{2}}(|00\\rangle+|10\\rangle) \\xrightarrow {\\text CNOT} \\frac{1}{\\sqrt{2}}(|00\\rangle+|11\\rangle)= \\frac{1}{\\sqrt{2}}\\begin{bmatrix} 1 \\\\ 0 \\\\ 0 \\\\1 \\end{bmatrix}\n",
    "$$\n",
    "\n",
    "missä siis muodostettiin Bellin kantavektori lomittamalla kaksi kubittia:\n",
    "$$\n",
    "|\\phi^+\\rangle=\\frac{1}{\\sqrt{2}}(|00\\rangle+|11\\rangle)\n",
    "$$\n",
    "\n",
    "Koska tila $|+\\rangle$ määriteltiin seuraavasti:  $|+\\rangle=\\frac{1}{\\sqrt{2}}(|0\\rangle+|1\\rangle)$, voidaan yllä oleva ket-esitys esittä tilan $|+\\rangle$ avulla:\n",
    "\n",
    "$$\n",
    "|+0\\rangle = \\frac{1}{\\sqrt{2}}(|0\\rangle+|1\\rangle)|0\\rangle = \\frac{1}{\\sqrt{2}}(|00\\rangle+|10\\rangle) \\xrightarrow {\\text CNOT} \\frac{1}{\\sqrt{2}}(|00\\rangle+|11\\rangle)\n",
    "$$\n",
    "\n"
   ]
  },
  {
   "cell_type": "markdown",
   "id": "leading-affair",
   "metadata": {},
   "source": [
    "## Tehtävä 1 B ratkaisu\n",
    "b) Tavoitteena luoda Bellin tila, eli kantavektori $|\\psi^+\\rangle=\\frac{1}{\\sqrt{2}}(|01\\rangle + |10\\rangle)$.\n",
    "\n",
    "Tarkastellaan ensin ket-esityksen avulla\n",
    "\n",
    "$$\\frac{1}{\\sqrt{2}}(|0\\rangle+|1\\rangle)\\otimes|1\\rangle=\n",
    "\\frac{1}{\\sqrt{2}}(|01\\rangle+|11\\rangle) \\xrightarrow {\\text CNOT} \\frac{1}{\\sqrt{2}}(|01\\rangle+|10\\rangle)= \\frac{1}{\\sqrt{2}}\\begin{bmatrix} 0 \\\\ 1 \\\\ 1 \\\\0 \\end{bmatrix}\n",
    "$$\n",
    "\n",
    "\n",
    "On siis muodostettava H-portilla 1.kubitin tila $|+\\rangle$ ja 2.kubitti on laitettava X-portilla tilaan $|1\\rangle$. Tämän jälkeen kubitit lomitetaan CNOT-portilla"
   ]
  },
  {
   "cell_type": "code",
   "execution_count": 72,
   "id": "instructional-south",
   "metadata": {},
   "outputs": [
    {
     "data": {
      "text/html": [
       "<pre style=\"word-wrap: normal;white-space: pre;background: #fff0;line-height: 1.1;font-family: &quot;Courier New&quot;,Courier,monospace\">     ┌───┐\n",
       "q_0: ┤ H ├\n",
       "     ├───┤\n",
       "q_1: ┤ X ├\n",
       "     └───┘</pre>"
      ],
      "text/plain": [
       "     ┌───┐\n",
       "q_0: ┤ H ├\n",
       "     ├───┤\n",
       "q_1: ┤ X ├\n",
       "     └───┘"
      ]
     },
     "execution_count": 72,
     "metadata": {},
     "output_type": "execute_result"
    }
   ],
   "source": [
    "qc2 = QuantumCircuit(2)# kahden kubitin piiri\n",
    "qc2.h(0)\n",
    "qc2.x(1)\n",
    "qc2.draw()"
   ]
  },
  {
   "cell_type": "code",
   "execution_count": 73,
   "id": "drawn-driving",
   "metadata": {},
   "outputs": [
    {
     "data": {
      "text/html": [
       "<pre style=\"word-wrap: normal;white-space: pre;background: #fff0;line-height: 1.1;font-family: &quot;Courier New&quot;,Courier,monospace\">     ┌───┐     \n",
       "q_0: ┤ H ├──■──\n",
       "     ├───┤┌─┴─┐\n",
       "q_1: ┤ X ├┤ X ├\n",
       "     └───┘└───┘</pre>"
      ],
      "text/plain": [
       "     ┌───┐     \n",
       "q_0: ┤ H ├──■──\n",
       "     ├───┤┌─┴─┐\n",
       "q_1: ┤ X ├┤ X ├\n",
       "     └───┘└───┘"
      ]
     },
     "execution_count": 73,
     "metadata": {},
     "output_type": "execute_result"
    }
   ],
   "source": [
    "qc2.cx(0,1)\n",
    "qc2.draw()"
   ]
  },
  {
   "cell_type": "code",
   "execution_count": 74,
   "id": "united-grenada",
   "metadata": {},
   "outputs": [
    {
     "data": {
      "text/latex": [
       "$\\displaystyle \n",
       "\\text{Statevector = }\\begin{bmatrix}\n",
       "0 \\\\\n",
       "\\tfrac{1}{\\sqrt{2}} \\\\\n",
       "\\tfrac{1}{\\sqrt{2}} \\\\\n",
       "0\n",
       "\\end{bmatrix}\n",
       "$"
      ],
      "text/plain": [
       "<IPython.core.display.Math object>"
      ]
     },
     "metadata": {},
     "output_type": "display_data"
    }
   ],
   "source": [
    "# Let's get the result:\n",
    "qobj = assemble(qc2)\n",
    "result = svsim.run(qobj).result()\n",
    "# Print the statevector neatly:\n",
    "final_state = result.get_statevector()\n",
    "array_to_latex(final_state, pretext=\"\\\\text{Statevector = }\")"
   ]
  },
  {
   "cell_type": "code",
   "execution_count": 75,
   "id": "amended-symbol",
   "metadata": {},
   "outputs": [
    {
     "data": {
      "image/png": "[encoded data removed]",
      "text/plain": [
       "<Figure size 504x360 with 1 Axes>"
      ]
     },
     "execution_count": 75,
     "metadata": {},
     "output_type": "execute_result"
    }
   ],
   "source": [
    "plot_histogram(result.get_counts())"
   ]
  },
  {
   "cell_type": "markdown",
   "id": "growing-switzerland",
   "metadata": {},
   "source": [
    "d) Lisätehtäväkohta \n",
    "we can represent the simultaneous operations (H & X) using their tensor product:\n",
    "\n",
    "$$\n",
    "X|q_1\\rangle \\otimes H|q_0\\rangle = (X\\otimes H)|q_1 q_0\\rangle\n",
    "$$\n",
    "\n",
    "The operation looks like this:\n",
    "\n",
    "$$\n",
    "X\\otimes H = \\begin{bmatrix} 0 & 1 \\\\ 1 & 0 \\end{bmatrix} \\otimes \\tfrac{1}{\\sqrt{2}}\\begin{bmatrix} 1 & 1 \\\\ 1 & -1 \\end{bmatrix} = \\frac{1}{\\sqrt{2}}\n",
    "\\begin{bmatrix} 0 \\times \\begin{bmatrix} 1 & 1 \\\\ 1 & -1 \\end{bmatrix}\n",
    "              & 1 \\times \\begin{bmatrix} 1 & 1 \\\\ 1 & -1 \\end{bmatrix}\n",
    "                \\\\ \n",
    "                1 \\times \\begin{bmatrix} 1 & 1 \\\\ 1 & -1 \\end{bmatrix}\n",
    "              & 0 \\times \\begin{bmatrix} 1 & 1 \\\\ 1 & -1 \\end{bmatrix}\n",
    "\\end{bmatrix} = \\frac{1}{\\sqrt{2}}\n",
    "\\begin{bmatrix} 0 & 0 & 1 & 1 \\\\\n",
    "                0 & 0 & 1 & -1 \\\\\n",
    "                1 & 1 & 0 & 0 \\\\\n",
    "                1 & -1 & 0 & 0 \\\\\n",
    "\\end{bmatrix}\n",
    "$$\n",
    "\n",
    "Which we can then apply to our 4D statevector $|q_1 q_0\\rangle$. This can become quite messy, you will often see the clearer notation:\n",
    "\n",
    "$$\n",
    "X\\otimes H = \n",
    "\\begin{bmatrix} 0 & H \\\\\n",
    "               H & 0\\\\\n",
    "\\end{bmatrix}\n",
    "$$\n",
    "\n",
    "Instead of calculating this by hand, we can use Qiskit’s `unitary_simulator` to calculate this for us. The unitary simulator multiplies all the gates in our circuit together to compile a single unitary matrix that performs the whole quantum circuit:"
   ]
  },
  {
   "cell_type": "code",
   "execution_count": 77,
   "id": "prescription-tamil",
   "metadata": {},
   "outputs": [],
   "source": [
    "usim = Aer.get_backend('unitary_simulator')\n",
    "qobj = assemble(qc2)\n",
    "unitary = usim.run(qobj).result().get_unitary()"
   ]
  },
  {
   "cell_type": "code",
   "execution_count": 78,
   "id": "english-graphics",
   "metadata": {},
   "outputs": [
    {
     "data": {
      "text/latex": [
       "$\\displaystyle \n",
       "\\text{Circuit = }\n",
       "\\begin{bmatrix}\n",
       "0 & 0 & \\tfrac{1}{\\sqrt{2}} & \\tfrac{1}{\\sqrt{2}}  \\\\\n",
       "\\tfrac{1}{\\sqrt{2}} & -\\tfrac{1}{\\sqrt{2}} & 0 & 0  \\\\\n",
       "\\tfrac{1}{\\sqrt{2}} & \\tfrac{1}{\\sqrt{2}} & 0 & 0  \\\\\n",
       "0 & 0 & \\tfrac{1}{\\sqrt{2}} & -\\tfrac{1}{\\sqrt{2}}  \\\\\n",
       "\\end{bmatrix}\n",
       "$$\n",
       "$"
      ],
      "text/plain": [
       "<IPython.core.display.Math object>"
      ]
     },
     "metadata": {},
     "output_type": "display_data"
    }
   ],
   "source": [
    "# In Jupyter Notebooks we can display this nicely using Latex.\n",
    "# If not using Jupyter Notebooks you may need to remove the \n",
    "# array_to_latex function and use print(unitary) instead.\n",
    "from qiskit_textbook.tools import array_to_latex\n",
    "array_to_latex(unitary, pretext=\"\\\\text{Circuit = }\\n\")"
   ]
  },
  {
   "cell_type": "code",
   "execution_count": 85,
   "id": "coated-spoke",
   "metadata": {},
   "outputs": [
    {
     "name": "stdout",
     "output_type": "stream",
     "text": [
      "matriisi M\n",
      "[[ 0.          0.          0.70710678  0.70710678]\n",
      " [ 0.70710678 -0.70710678  0.          0.        ]\n",
      " [ 0.70710678  0.70710678  0.          0.        ]\n",
      " [ 0.          0.          0.70710678 -0.70710678]]\n",
      "kantavektori\n",
      "[[1]\n",
      " [0]\n",
      " [0]\n",
      " [0]]\n",
      "lasketaan matriisin M ja kantavektorin tulo\n",
      "[[0.        ]\n",
      " [0.70710678]\n",
      " [0.70710678]\n",
      " [0.        ]]\n",
      "onko unitaarinen\n",
      "[[ 0.5  0.5  0.5 -0.5]\n",
      " [-0.5  0.5  0.5  0.5]\n",
      " [ 0.5 -0.5  0.5  0.5]\n",
      " [ 0.5  0.5 -0.5  0.5]]\n",
      "[[0 1]\n",
      " [1 0]]\n",
      "xx\n",
      "[[1 0]\n",
      " [0 1]]\n"
     ]
    }
   ],
   "source": [
    "import numpy as np\n",
    "import math\n",
    "\n",
    "k = 1 /math.sqrt(2)\n",
    "print(\"matriisi M\")\n",
    "M = np.array([[0,0,k,k], [k,-k,0,0], [k, k, 0,0], [0,0,k,-k]])\n",
    "print(M)\n",
    "\n",
    "print(\"kantavektori\")\n",
    "q00 =np.array([[1],[0],[0],[0]])\n",
    "print(q00)\n",
    "\n",
    "print(\"lasketaan matriisin M ja kantavektorin tulo\")\n",
    "print(M@q00)\n",
    "\n",
    "print(\"onko unitaarinen\")\n",
    "print(M@M)\n",
    "\n",
    "X = np.array([[0,1], [1,0]])\n",
    "print(X)\n",
    "\n",
    "print(\"xx\")\n",
    "print(X@X)"
   ]
  },
  {
   "cell_type": "markdown",
   "id": "standing-antigua",
   "metadata": {},
   "source": [
    "## Lisätietoa tehtävä 1\n",
    "Muut Bellin kantavektorit, ja niiden muodostaminen, muista\n",
    "\n",
    "$$\n",
    "H\\ket 0 = \\frac{1}{\\sqrt 2} (\\ket 0 +  \\ket 1) = \\ket +   \\\\\n",
    "H\\ket 1 = \\frac{1}{\\sqrt 2} (\\ket 0 -  \\ket 1) = \\ket -\n",
    "$$\n",
    "\n",
    "\n",
    "Kantavektorin $|\\phi^-\\rangle$ muodostaminen\n",
    "$$\n",
    "\\frac 1 {\\sqrt 2} (|0\\rangle - |1\\rangle)\\otimes |0\\rangle\n",
    "= \\frac 1 {\\sqrt 2}(| 0\\rangle |0\\rangle - |1\\rangle | 0\\rangle) = \\frac 1 {\\sqrt 2} (|00\\rangle - |1 0\\rangle)\n",
    "\\xrightarrow {\\text CNOT} \\frac 1 {\\sqrt 2} (|00\\rangle - |1 0\\rangle)=|\\phi^-\\rangle\n",
    "$$\n",
    "\n",
    "eli on siis laitettava 1.kubitti ensi tilaan 1 ja operoitava tähän sitten H-portilla. Sitten lomitetaan kubitit 1 ja 2.\n",
    "\n",
    "$$\n",
    "|-0\\rangle \\xrightarrow {\\text CNOT}\\frac 1 {\\sqrt 2} (|00\\rangle - |1 0\\rangle)=|\\phi^-\\rangle\n",
    "$$\n",
    "\n",
    "\n",
    "ja Bellin tila eli kantavektori $|\\psi^-$:\n",
    "\n",
    "\n",
    "$$\n",
    "\\frac 1 {\\sqrt 2} (|0\\rangle - |1\\rangle)\\otimes |1\\rangle\n",
    " = \\frac 1 {\\sqrt 2} (|01\\rangle - |1 1\\rangle)\n",
    "\\xrightarrow {\\text CNOT} \\frac 1 {\\sqrt 2} (|01\\rangle - |1 0\\rangle)=|\\psi^-\\rangle\n",
    "$$\n",
    "\n",
    "eli\n",
    "\n",
    "$$\n",
    "|-1\\rangle \\xrightarrow {\\text CNOT}\\frac 1 {\\sqrt 2} (|01\\rangle - |1 0\\rangle)=|\\psi^-\\rangle\n",
    "$$"
   ]
  },
  {
   "cell_type": "markdown",
   "id": "resident-helen",
   "metadata": {},
   "source": [
    "## Lisätehtävä 1d)\n",
    "\n",
    "Simuiloidaan vielä b-kohdan kvanttipiiri. \n",
    "\n",
    "$$\n",
    "CNOT |+1\\rangle \\xrightarrow {\\text CNOT}\\frac 1 {\\sqrt 2} (|01\\rangle + |1 0\\rangle) \n",
    "$$"
   ]
  },
  {
   "cell_type": "code",
   "execution_count": 43,
   "id": "behavioral-embassy",
   "metadata": {},
   "outputs": [
    {
     "data": {
      "text/plain": [
       "<qiskit.circuit.instructionset.InstructionSet at 0x7fb73e3f72b0>"
      ]
     },
     "execution_count": 43,
     "metadata": {},
     "output_type": "execute_result"
    }
   ],
   "source": [
    "from qiskit import *\n",
    "import math\n",
    "\n",
    "# Luodaan kvanttipiiri muuttujaan circ, jossa on yksi kubitti (diagrammissa q).\n",
    "quantum_register = QuantumRegister(2)\n",
    "classical_register = ClassicalRegister(2)\n",
    "circuit = QuantumCircuit(quantum_register, classical_register)  # \n",
    "circuit.h(0)\n",
    "circuit.x(1)\n",
    "circuit.cx(0,1)"
   ]
  },
  {
   "cell_type": "code",
   "execution_count": 44,
   "id": "reflected-insight",
   "metadata": {},
   "outputs": [
    {
     "data": {
      "image/png": "[encoded data removed]",
      "text/plain": [
       "<Figure size 504x360 with 1 Axes>"
      ]
     },
     "execution_count": 44,
     "metadata": {},
     "output_type": "execute_result"
    }
   ],
   "source": [
    "circuit.measure(quantum_register, classical_register)\n",
    "simulator = Aer.get_backend('qasm_simulator')\n",
    "execute(circuit, backend=simulator)\n",
    "result = execute(circuit, backend=simulator).result()\n",
    "from qiskit.tools.visualization import plot_histogram\n",
    "plot_histogram(result.get_counts(circuit))"
   ]
  },
  {
   "cell_type": "code",
   "execution_count": 49,
   "id": "south-manufacturer",
   "metadata": {},
   "outputs": [
    {
     "name": "stdout",
     "output_type": "stream",
     "text": [
      "q01: \n",
      "[[0]\n",
      " [1]\n",
      " [0]\n",
      " [0]]\n",
      "q11: \n",
      "[[0]\n",
      " [0]\n",
      " [0]\n",
      " [1]]\n",
      "CNOT: \n",
      "[[1 0 0 0]\n",
      " [0 1 0 0]\n",
      " [0 0 0 1]\n",
      " [0 0 1 0]]\n"
     ]
    }
   ],
   "source": [
    "# laske a-kohdan tulot tähän pythonilla, katso esimerkkiä kierroksen 1 ratkaisuista. \n",
    "# matriisin ja pystyvektorin tulossa kertomerkki on @\n",
    "import numpy as np\n",
    "from math import sqrt\n",
    "\n",
    "# määritellään pystyvektorina kubitin kvanttitila 0:\n",
    "print(\"q01: \")\n",
    "q01 = np.array([[0],[1],[0],[0]])\n",
    "print(q01)\n",
    "\n",
    "# määritellään pystyvektorina kubitin kvanttitila 1:\n",
    "print(\"q11: \")\n",
    "q11 = np.array([[0],[0],[0],[1]])\n",
    "print(q11)\n",
    "\n",
    "print(\"CNOT: \")\n",
    "CNOT =np.array([[1, 0, 0,0 ],[0,1,0, 0], [0,0,0, 1], [0,0,1, 0]])\n",
    "print(CNOT)"
   ]
  },
  {
   "cell_type": "code",
   "execution_count": 54,
   "id": "focal-equilibrium",
   "metadata": {},
   "outputs": [
    {
     "name": "stdout",
     "output_type": "stream",
     "text": [
      "two_qubit_state\n",
      "[[0.        ]\n",
      " [0.70710678]\n",
      " [0.        ]\n",
      " [0.70710678]]\n",
      "psi\n",
      "[[0.        ]\n",
      " [0.70710678]\n",
      " [0.70710678]\n",
      " [0.        ]]\n"
     ]
    }
   ],
   "source": [
    "print(\"two_qubit_state\")\n",
    "two_qubit_state = (1/sqrt(2))*(q01+q11)\n",
    "print(two_qubit_state)\n",
    "\n",
    "print(\"psi\")\n",
    "psi = CNOT@two_qubit_state\n",
    "print(psi)"
   ]
  },
  {
   "cell_type": "markdown",
   "id": "junior-publisher",
   "metadata": {},
   "source": [
    "Jos CNOT on unitaarinen sen matriisitulo itsensäkanssa on identiteettimatriisi:"
   ]
  },
  {
   "cell_type": "code",
   "execution_count": 55,
   "id": "current-romance",
   "metadata": {},
   "outputs": [
    {
     "name": "stdout",
     "output_type": "stream",
     "text": [
      "[[1 0 0 0]\n",
      " [0 1 0 0]\n",
      " [0 0 1 0]\n",
      " [0 0 0 1]]\n"
     ]
    }
   ],
   "source": [
    "print(CNOT@CNOT)"
   ]
  },
  {
   "cell_type": "markdown",
   "id": "appointed-texas",
   "metadata": {},
   "source": [
    "## Tehtävä 2 Swapping states\n",
    "Lähde: <a href=\"https://qiskit.org/textbook/content/ch-gates/more-circuit-identities.ipynb\" target=\"_blank\">2.2 More Circuit Identities</a>\n",
    "\n",
    "Sometimes we need to move information around in a quantum computer. For some qubit implementations, this could be done by physically moving them. Another option is simply to move the state between two qubits. This is done by the SWAP gate."
   ]
  },
  {
   "cell_type": "code",
   "execution_count": 96,
   "id": "compound-treasurer",
   "metadata": {},
   "outputs": [],
   "source": [
    "a = 0\n",
    "b = 1"
   ]
  },
  {
   "cell_type": "code",
   "execution_count": 105,
   "id": "suspected-dallas",
   "metadata": {},
   "outputs": [
    {
     "data": {
      "text/html": [
       "<pre style=\"word-wrap: normal;white-space: pre;background: #fff0;line-height: 1.1;font-family: &quot;Courier New&quot;,Courier,monospace\">       ┌───┐   \n",
       "q44_0: ┤ X ├─X─\n",
       "       └───┘ │ \n",
       "q44_1: ──────X─\n",
       "               \n",
       " c3: 2/════════\n",
       "               </pre>"
      ],
      "text/plain": [
       "       ┌───┐   \n",
       "q44_0: ┤ X ├─X─\n",
       "       └───┘ │ \n",
       "q44_1: ──────X─\n",
       "               \n",
       " c3: 2/════════\n",
       "               "
      ]
     },
     "execution_count": 105,
     "metadata": {},
     "output_type": "execute_result"
    }
   ],
   "source": [
    "quantum_register = QuantumRegister(2)\n",
    "classical_register = ClassicalRegister(2)\n",
    "qc = QuantumCircuit(quantum_register, classical_register)\n",
    "# swaps states of qubits a and b\n",
    "qc.x(0)\n",
    "qc.swap(a,b)\n",
    "qc.draw()"
   ]
  },
  {
   "cell_type": "code",
   "execution_count": 106,
   "id": "northern-means",
   "metadata": {},
   "outputs": [
    {
     "data": {
      "image/png": "[encoded data removed]",
      "text/plain": [
       "<Figure size 504x360 with 1 Axes>"
      ]
     },
     "execution_count": 106,
     "metadata": {},
     "output_type": "execute_result"
    }
   ],
   "source": [
    "qc.measure(quantum_register, classical_register)\n",
    "simulator = Aer.get_backend('qasm_simulator')\n",
    "execute(qc, backend=simulator)\n",
    "result = execute(qc, backend=simulator).result()\n",
    "from qiskit.tools.visualization import plot_histogram\n",
    "plot_histogram(result.get_counts(qc))"
   ]
  },
  {
   "cell_type": "markdown",
   "id": "external-string",
   "metadata": {},
   "source": [
    "The command above directly invokes this gate, but let's see how we might make it using our standard gate set. For this, we'll need to consider a few examples.\n",
    "\n",
    "First, we'll look at the case that qubit a is in state $|1\\rangle$ and qubit b is in state $|0\\rangle$. For this we'll apply the following gates:"
   ]
  },
  {
   "cell_type": "code",
   "execution_count": 99,
   "id": "accepted-aviation",
   "metadata": {},
   "outputs": [
    {
     "data": {
      "text/html": [
       "<pre style=\"word-wrap: normal;white-space: pre;background: #fff0;line-height: 1.1;font-family: &quot;Courier New&quot;,Courier,monospace\">          ┌───┐\n",
       "q_0: ──■──┤ X ├\n",
       "     ┌─┴─┐└─┬─┘\n",
       "q_1: ┤ X ├──■──\n",
       "     └───┘     </pre>"
      ],
      "text/plain": [
       "          ┌───┐\n",
       "q_0: ──■──┤ X ├\n",
       "     ┌─┴─┐└─┬─┘\n",
       "q_1: ┤ X ├──■──\n",
       "     └───┘     "
      ]
     },
     "execution_count": 99,
     "metadata": {},
     "output_type": "execute_result"
    }
   ],
   "source": [
    "qc = QuantumCircuit(2)\n",
    "# swap a 1 from a to b\n",
    "qc.cx(a,b) # copies 1 from a to b\n",
    "qc.cx(b,a) # uses the 1 on b to rotate the state of a to 0\n",
    "qc.draw()"
   ]
  },
  {
   "cell_type": "markdown",
   "id": "supposed-pursuit",
   "metadata": {},
   "source": [
    "This has the effect of putting qubit b in state  |1⟩  and qubit a in state  |0⟩ . In this case at least, we have done a SWAP.\n",
    "\n",
    "Now let's take this state and SWAP back to the original one. As you may have guessed, we can do this with the reverse of the above process:\n",
    "\n"
   ]
  },
  {
   "cell_type": "code",
   "execution_count": 19,
   "id": "statewide-section",
   "metadata": {},
   "outputs": [
    {
     "data": {
      "text/html": [
       "<pre style=\"word-wrap: normal;white-space: pre;background: #fff0;line-height: 1.1;font-family: &quot;Courier New&quot;,Courier,monospace\">          ┌───┐┌───┐     \n",
       "q_0: ──■──┤ X ├┤ X ├──■──\n",
       "     ┌─┴─┐└─┬─┘└─┬─┘┌─┴─┐\n",
       "q_1: ┤ X ├──■────■──┤ X ├\n",
       "     └───┘          └───┘</pre>"
      ],
      "text/plain": [
       "          ┌───┐┌───┐     \n",
       "q_0: ──■──┤ X ├┤ X ├──■──\n",
       "     ┌─┴─┐└─┬─┘└─┬─┘┌─┴─┐\n",
       "q_1: ┤ X ├──■────■──┤ X ├\n",
       "     └───┘          └───┘"
      ]
     },
     "execution_count": 19,
     "metadata": {},
     "output_type": "execute_result"
    }
   ],
   "source": [
    "# swap a q from b to a\n",
    "qc.cx(b,a) # copies 1 from b to a\n",
    "qc.cx(a,b) # uses the 1 on a to rotate the state of b to 0\n",
    "qc.draw()"
   ]
  },
  {
   "cell_type": "markdown",
   "id": "committed-shadow",
   "metadata": {},
   "source": [
    "Note that in these two processes, the first gate of one would have no effect on the initial state of the other. For example, when we swap the  |1⟩  b to a, the first gate is cx(b,a). If this were instead applied to a state where no  |1⟩  was initially on b, it would have no effect.\n",
    "\n",
    "Note also that for these two processes, the final gate of one would have no effect on the final state of the other. For example, the final cx(b,a) that is required when we swap the  |1⟩  from a to b has no effect on the state where the  |1⟩  is not on b.\n",
    "\n",
    "With these observations, we can combine the two processes by adding an ineffective gate from one onto the other. For example,"
   ]
  },
  {
   "cell_type": "code",
   "execution_count": 21,
   "id": "proof-emission",
   "metadata": {},
   "outputs": [
    {
     "data": {
      "text/html": [
       "<pre style=\"word-wrap: normal;white-space: pre;background: #fff0;line-height: 1.1;font-family: &quot;Courier New&quot;,Courier,monospace\">     ┌───┐     ┌───┐\n",
       "q_0: ┤ X ├──■──┤ X ├\n",
       "     └─┬─┘┌─┴─┐└─┬─┘\n",
       "q_1: ──■──┤ X ├──■──\n",
       "          └───┘     </pre>"
      ],
      "text/plain": [
       "     ┌───┐     ┌───┐\n",
       "q_0: ┤ X ├──■──┤ X ├\n",
       "     └─┬─┘┌─┴─┐└─┬─┘\n",
       "q_1: ──■──┤ X ├──■──\n",
       "          └───┘     "
      ]
     },
     "execution_count": 21,
     "metadata": {},
     "output_type": "execute_result"
    }
   ],
   "source": [
    "qc = QuantumCircuit(2)\n",
    "qc.cx(b,a)\n",
    "qc.cx(a,b)\n",
    "qc.cx(b,a)\n",
    "qc.draw()"
   ]
  },
  {
   "cell_type": "markdown",
   "id": "graphic-yukon",
   "metadata": {},
   "source": [
    "We can think of this as a process that swaps a $|1\\rangle$ from a to b, but with a useless `qc.cx(b,a)` at the beginning. We can also think of it as a process that swaps a $|1\\rangle$ from b to a, but with a useless `qc.cx(b,a)` at the end. Either way, the result is a process that can do the swap both ways around.\n",
    "\n",
    "It also has the correct effect on the $|00\\rangle$ state. This is symmetric, and so swapping the states should have no effect. Since the CNOT gates have no effect when their control qubits are $|0\\rangle$, the process correctly does nothing.\n",
    "\n",
    "The $|11\\rangle$ state is also symmetric, and so needs a trivial effect from the swap. In this case, the first CNOT gate in the process above will cause the second to have no effect, and the third undoes the first. Therefore, the whole effect is indeed trivial.\n",
    "\n",
    "We have thus found a way to decompose SWAP gates into our standard gate set of single-qubit rotations and CNOT gates."
   ]
  },
  {
   "cell_type": "markdown",
   "id": "ethical-automation",
   "metadata": {},
   "source": [
    "It works for the states  |00⟩ ,  |01⟩ ,  |10⟩  and  |11⟩ , and if it works for all the states in the computational basis, it must work for all states generally. This circuit therefore swaps all possible two-qubit states.\n",
    "\n",
    "The same effect would also result if we changed the order of the CNOT gates:"
   ]
  },
  {
   "cell_type": "code",
   "execution_count": 22,
   "id": "thick-intersection",
   "metadata": {},
   "outputs": [
    {
     "data": {
      "text/html": [
       "<pre style=\"word-wrap: normal;white-space: pre;background: #fff0;line-height: 1.1;font-family: &quot;Courier New&quot;,Courier,monospace\">          ┌───┐     \n",
       "q_0: ──■──┤ X ├──■──\n",
       "     ┌─┴─┐└─┬─┘┌─┴─┐\n",
       "q_1: ┤ X ├──■──┤ X ├\n",
       "     └───┘     └───┘</pre>"
      ],
      "text/plain": [
       "          ┌───┐     \n",
       "q_0: ──■──┤ X ├──■──\n",
       "     ┌─┴─┐└─┬─┘┌─┴─┐\n",
       "q_1: ┤ X ├──■──┤ X ├\n",
       "     └───┘     └───┘"
      ]
     },
     "execution_count": 22,
     "metadata": {},
     "output_type": "execute_result"
    }
   ],
   "source": [
    "qc = QuantumCircuit(2)\n",
    "# swaps states of qubits a and b\n",
    "qc.cx(a,b)\n",
    "qc.cx(b,a)\n",
    "qc.cx(a,b)\n",
    "qc.draw()"
   ]
  },
  {
   "cell_type": "markdown",
   "id": "widespread-easter",
   "metadata": {},
   "source": [
    "This is an equally valid way to get the SWAP gate.\n",
    "\n",
    "The derivation used here was very much based on the z basis states, but it could also be done by thinking about what is required to swap qubits in states  |+⟩  and  |−⟩ . The resulting ways of implementing the SWAP gate will be completely equivalent to the ones here.\n",
    "\n"
   ]
  },
  {
   "cell_type": "markdown",
   "id": "confidential-object",
   "metadata": {},
   "source": [
    "## Tehtävä 3\n",
    "\n",
    "Lue artikkeli kvanttinoppa ja erityisesti miten nopan silmäluvut 1- 6 voidaan ohjelmoida kehittyneemmällä kvanttialgoritmilla.\n",
    "\n",
    "<a href=\"https://www.lukemaverkosto.fi/materiaali/microbit-kvanttinoppa/\" target =\"_blank\"> Microbit kvanttinoppa</a>\n",
    "\n",
    "Artikkelin alussa oleva helppo esimerkki on lämmittelyä. Perehdy R-kiertoportilla toteutettuun versioon.\n",
    "\n",
    "Jos haluat ohjelmoida kvanttinopan oikealla kvanttitietokoneella, koodin löydät täältä:\n",
    "\n",
    "<a href =\"https://www.lukemaverkosto.fi/wp-content/uploads/2020/11/kvanttinoppa.html\">Esimerkkikoodi</a>"
   ]
  },
  {
   "cell_type": "code",
   "execution_count": 107,
   "id": "presidential-annotation",
   "metadata": {},
   "outputs": [],
   "source": [
    "from qiskit import *\n",
    "from qiskit.tools.monitor import job_monitor\n",
    "from qiskit.tools.visualization import plot_histogram\n",
    "import math"
   ]
  },
  {
   "cell_type": "code",
   "execution_count": 108,
   "id": "latest-austria",
   "metadata": {},
   "outputs": [
    {
     "data": {
      "image/png": "[encoded data removed]",
      "text/plain": [
       "<Figure size 112.995x264.88 with 1 Axes>"
      ]
     },
     "execution_count": 108,
     "metadata": {},
     "output_type": "execute_result"
    }
   ],
   "source": [
    "qr = QuantumRegister(3)\n",
    "cr = ClassicalRegister(3)\n",
    "circuit = QuantumCircuit(qr, cr)\n",
    "circuit.draw(output=\"mpl\")"
   ]
  },
  {
   "cell_type": "code",
   "execution_count": 109,
   "id": "collectible-blocking",
   "metadata": {},
   "outputs": [
    {
     "data": {
      "text/plain": [
       "<qiskit.circuit.instructionset.InstructionSet at 0x7fb738ea9610>"
      ]
     },
     "execution_count": 109,
     "metadata": {},
     "output_type": "execute_result"
    }
   ],
   "source": [
    "# Käännetään kubittia kohdassa 2 sopivan määrän, jotta saadaan 1 todennäköisyydellä 2/3\n",
    "# Matematiikka luvun taustalla löytyy artikkelista\n",
    "circuit.ry(2 * math.asin(math.sqrt(2/3)), 2)\n",
    "\n",
    "circuit.ch(2, 1) # controlled controlled H\n",
    "circuit.x(2)\n",
    "circuit.h(0)"
   ]
  },
  {
   "cell_type": "code",
   "execution_count": 110,
   "id": "crazy-shareware",
   "metadata": {},
   "outputs": [
    {
     "data": {
      "image/png": "[encoded data removed]",
      "text/plain": [
       "<Figure size 293.595x264.88 with 1 Axes>"
      ]
     },
     "execution_count": 110,
     "metadata": {},
     "output_type": "execute_result"
    }
   ],
   "source": [
    "circuit.draw(output=\"mpl\")"
   ]
  },
  {
   "cell_type": "code",
   "execution_count": 111,
   "id": "warming-patient",
   "metadata": {},
   "outputs": [
    {
     "data": {
      "text/plain": [
       "<qiskit.circuit.instructionset.InstructionSet at 0x7fb73ee90fa0>"
      ]
     },
     "execution_count": 111,
     "metadata": {},
     "output_type": "execute_result"
    }
   ],
   "source": [
    "circuit.barrier()"
   ]
  },
  {
   "cell_type": "code",
   "execution_count": 112,
   "id": "varied-affiliation",
   "metadata": {},
   "outputs": [
    {
     "data": {
      "image/png": "[encoded data removed]",
      "text/plain": [
       "<Figure size 534.395x264.88 with 1 Axes>"
      ]
     },
     "execution_count": 112,
     "metadata": {},
     "output_type": "execute_result"
    }
   ],
   "source": [
    "circuit.measure(qr, cr)\n",
    "circuit.draw(output=\"mpl\")"
   ]
  },
  {
   "cell_type": "code",
   "execution_count": 113,
   "id": "registered-macintosh",
   "metadata": {},
   "outputs": [],
   "source": [
    "# käytetään simulaattoria, eli ei ajeta ohjelmaa oikealla kvanttitietokoneella\n",
    "computer = Aer.get_backend(\"qasm_simulator\")"
   ]
  },
  {
   "cell_type": "code",
   "execution_count": 114,
   "id": "greatest-disorder",
   "metadata": {},
   "outputs": [],
   "source": [
    "r = execute(circuit, computer).result()"
   ]
  },
  {
   "cell_type": "code",
   "execution_count": 115,
   "id": "southeast-adrian",
   "metadata": {},
   "outputs": [
    {
     "data": {
      "text/plain": [
       "{'000': 170, '001': 160, '010': 179, '011': 174, '100': 188, '101': 153}"
      ]
     },
     "execution_count": 115,
     "metadata": {},
     "output_type": "execute_result"
    }
   ],
   "source": [
    "r.get_counts()"
   ]
  },
  {
   "cell_type": "code",
   "execution_count": 116,
   "id": "wireless-poultry",
   "metadata": {},
   "outputs": [
    {
     "data": {
      "image/png": "[encoded data removed]",
      "text/plain": [
       "<Figure size 504x360 with 1 Axes>"
      ]
     },
     "execution_count": 116,
     "metadata": {},
     "output_type": "execute_result"
    }
   ],
   "source": [
    "plot_histogram(r.get_counts())"
   ]
  },
  {
   "cell_type": "code",
   "execution_count": 123,
   "id": "functional-finland",
   "metadata": {},
   "outputs": [
    {
     "data": {
      "image/png": "[encoded data removed]",
      "text/plain": [
       "<Figure size 504x360 with 1 Axes>"
      ]
     },
     "execution_count": 123,
     "metadata": {},
     "output_type": "execute_result"
    }
   ],
   "source": [
    "# Simuloidaan piirin toiminta.\n",
    "simulator = Aer.get_backend('qasm_simulator')\n",
    "execute(circuit, backend=simulator)\n",
    "result = execute(circuit, backend=simulator).result()\n",
    "from qiskit.tools.visualization import plot_histogram\n",
    "plot_histogram(result.get_counts(circuit))"
   ]
  },
  {
   "cell_type": "code",
   "execution_count": null,
   "id": "twenty-mississippi",
   "metadata": {},
   "outputs": [
    {
     "name": "stderr",
     "output_type": "stream",
     "text": [
      "ibmqfactory.load_account:WARNING:2021-03-22 16:22:51,321: Credentials are already in use. The existing account in the session will be replaced.\n"
     ]
    },
    {
     "name": "stdout",
     "output_type": "stream",
     "text": [
      "Job Status: job is queued (None)  "
     ]
    }
   ],
   "source": [
    "# Lähetetään koodi oikealle kvanttikoneelle. Ole kärsivällinen, odota kvanttitietokoneen vastausta.\n",
    "# Kun Jupyter odottaa vastausta, välilehden kuvakkeena näkyy tiimalasi..\n",
    "IBMQ.load_account()\n",
    "provider = IBMQ.get_provider('ibm-q')\n",
    "qcomp = provider.get_backend('ibmq_16_melbourne')\n",
    "job = execute(circuit, backend=qcomp)\n",
    "\n",
    "from qiskit.tools.monitor import job_monitor\n",
    "job_monitor(job) # Koodi jää odottamaan tähän, kun lähetys on jonossa ja käsiteltävänä\n",
    "\n",
    "result = job.result()\n",
    "plot_histogram(result.get_counts(circuit))"
   ]
  },
  {
   "cell_type": "code",
   "execution_count": null,
   "id": "coupled-latvia",
   "metadata": {},
   "outputs": [],
   "source": []
  }
 ],
 "metadata": {
  "kernelspec": {
   "display_name": "Python 3",
   "language": "python",
   "name": "python3"
  },
  "language_info": {
   "codemirror_mode": {
    "name": "ipython",
    "version": 3
   },
   "file_extension": ".py",
   "mimetype": "text/x-python",
   "name": "python",
   "nbconvert_exporter": "python",
   "pygments_lexer": "ipython3",
   "version": "3.9.1"
  }
 },
 "nbformat": 4,
 "nbformat_minor": 5
}
