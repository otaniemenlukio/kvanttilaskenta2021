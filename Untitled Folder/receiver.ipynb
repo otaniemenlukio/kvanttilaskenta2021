{
 "cells": [
  {
   "cell_type": "code",
   "execution_count": null,
   "id": "generous-reduction",
   "metadata": {},
   "outputs": [],
   "source": [
    "import paho.mqtt.client as mqtt # Tuodaan mqtt kirjasto\n",
    "INSTANCE_NAME = \"controlcar\"\n",
    "PASSWD = \"ib976u6NelkGF9gC\"\n",
    "RECEIV_CLIENT = \"car\" #vastaanottaja\n",
    "\n",
    "def on_connect(RECCEIV_CLIENT, userdata, flags, rc): # Funktio, joka pyöriteään aina, kun yhdistetään palvelimeen.\n",
    "    print(\"Yhdistettiin koodilla:\", str(rc)) # Tulostetaan koodi jolla ollaan yhditetty palvelimeen.\n",
    "    client.subscribe(INSTANCE_NAME) # Tilataan viesti kanava instance. Eli vastaanotetaan vain viestit, jotka tulevat tälle kanavalle.\n",
    "\n",
    "def on_message(RECEIV_CLIENT, userdata, msg): # Funktio, joka pyöriteään aina, kun saadaa viesti.\n",
    "    print(msg.payload.decode(\"utf-8\")) # Tulostetaan viesti.\n",
    "\n",
    "\n",
    "client = mqtt.Client(client_id = RECEIV_CLIENT) # Määritetään käyttäjä (client). Annetaan sille nimeksi \"Kuuntelia\".\n",
    "client.on_connect = on_connect # Määritetään funktio, joka pyöritetään aina, kun yhdistetään palvelimeen.\n",
    "client.on_message = on_message # Määritetään funktio, joka pyöritetään aina, kun saadaan viesti.\n",
    "client.username_pw_set(INSTANCE_NAME, password = PASSWD) # Määritetään Avain sekä Salasana.\n",
    "client.connect(\"controlcar.cloud.shiftr.io\", 1883, 60) # Yhdistää shiftr.io:n palvelimelle. (ip, port, timeout)\n",
    "client.loop_forever() # Pyöritetään ohjelmaa loputtomiin (siihen asti että sen itse lopetamme).\n"
   ]
  },
  {
   "cell_type": "code",
   "execution_count": null,
   "id": "liberal-bread",
   "metadata": {},
   "outputs": [],
   "source": []
  },
  {
   "cell_type": "code",
   "execution_count": null,
   "id": "pacific-fiction",
   "metadata": {},
   "outputs": [],
   "source": []
  }
 ],
 "metadata": {
  "kernelspec": {
   "display_name": "Python 3",
   "language": "python",
   "name": "python3"
  },
  "language_info": {
   "codemirror_mode": {
    "name": "ipython",
    "version": 3
   },
   "file_extension": ".py",
   "mimetype": "text/x-python",
   "name": "python",
   "nbconvert_exporter": "python",
   "pygments_lexer": "ipython3",
   "version": "3.9.1"
  }
 },
 "nbformat": 4,
 "nbformat_minor": 5
}
