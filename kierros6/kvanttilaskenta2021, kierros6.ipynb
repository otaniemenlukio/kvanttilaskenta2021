{
 "cells": [
  {
   "cell_type": "markdown",
   "id": "circular-alexander",
   "metadata": {},
   "source": [
    "## Kvanttilaskenta 2021, kierros 6 laskuharjoitukset\n",
    "\n",
    "1) Tutustu viime vuoden luentoon Bernstein-Vazirani-algoritmista:\n",
    "<a href=\"https://youtu.be/AeiPfR0M4HA?t=49\" target=\"_blank\">Bernstein-Vazirani-algoritmi </a>\n",
    "\n",
    "<a href =\"https://drive.google.com/file/d/1G9i_xUAHjCFhiSz4pom6rYEhWVtN_ZAv/view?usp=sharing\" target=\"_blank\">Youtube-videon kalvot suomeksi</a>\n",
    "\n",
    "Kierroksella 6 on vain yksi tehtävä, tehtävässä 1 tarvittava koodi (myös alla):\n",
    "\n",
    "<a href = \"https://github.com/qiskit-community/qiskit-community-tutorials/blob/master/Coding_With_Qiskit/ep6_Bernstein-Vazirani_Algorithm.ipynb\"> IBM:n mallikoodi.</a>\n",
    "\n",
    "Koodin advanced versio on githubissa ja koodikoulu.net palvelussa"
   ]
  },
  {
   "cell_type": "markdown",
   "id": "smaller-richmond",
   "metadata": {},
   "source": [
    "### Tehtävä 1\n",
    "\n",
    "Tehtävässä 3 rakennetaan tutoriaalin avulla kvanttipiiri, joka ratkaisee binaarimuotoisen salasanan yhdellä yrityksellä. Salasana koostuu vain 0:sta ja 1:stä, salasanan pituus voi vaihdella. Annettuna on funktio eli musta laatikko, joka käyttäytyy sovitulla tavalla salasanan perusteella. Funktio käyttäytyy siten, että se vertailee salasanan jokaista bittiä ja syötteen jokaista bittiä. Funktio laskee AND-operaation salasanan $s$ ja syötteen $x$ jokaisen bitin välillä.   \n",
    "\n",
    "$$\n",
    "\\begin{array}{r|cccccc}\n",
    "s & 0 & 1 & 1 & 0 & 1 & 0 \\\\\n",
    "x & 0 & 0 & 1 & 1 & 1 & 0 \\\\ \n",
    "\\hline\n",
    "\\mathit{AND}  &0&0&1&0&1&0\n",
    "\\end{array}\n",
    "$$\n",
    "\n",
    "Funktio palauttaa 0 jos tuloksena oli parillinen määrä ykkösbittejä, muuten funktio palauttaa 1. Toisin sanoen, funktio kertoo, kuinka monta kertaa salasanassa ja syötteessä on 1 bitti samassa kohdassa ja palauttaa tiedon onko näitä kohtia pariton vai parillinen määrä. Taulukon esimerkissä funktio palauttaisi arvon 0.\n",
    "\n",
    "Tässä termi \"musta laatikko\" ei tarkoita, ettemme tietäisi piirin toteutusta, päinvastoin: piirin jokainen portti on oltava tiedossa, jotta se voidaan suorittaa kvanttitietokonella. Tämä herättää kysymyksen, mitä hyötyä salasanan ratkaisemisesta on. Bernsteinin-Vaziranin algoritmi ei olekaan käytännössä kovin hyödyllinen, koska se rajaa mustan laatikon, eli funktion toiminnan todella tarkasti. Monimutkaisemmissa algoritmeissa funktio voidaan kuitenkin helposti määrittää tavalla, jolla emme pysty helposti ennustamaan sen käyttäytymistä, esimerkiksi matemaattisten laskutoimitusten avulla.\n",
    "\n",
    "### Klassinen tausta: \n",
    "Jos salasana koostuu 6 bitistä, kuten esimerkkiksi 101001, niin klassisella tietkoneella tarvitaan salasanan selvittämiseen 6 kappaletta funktion kutsuja. Jos salasanan bittien määrä $n$ kasvaa, niin klassinen tietokone tarvitsee salasanan selvittämiseen $n$ kappaletta funktion kutsuja. Salasana saadaan selville testaamalla jokaista bittiä erikseen:\n",
    "\n",
    "$$\n",
    "f(100000)=1 \\\\\n",
    "f(010000)=0 \\\\\n",
    "f(001000)=1 \\\\\n",
    "f(000100)=0 \\\\\n",
    "f(000010)=0 \\\\\n",
    "f(000001)=1\n",
    "$$\n",
    "\n",
    "Kvanttitietokoneella salasanan selvittäminen onnistuu siten, että funktio ajaetaan vain kerran. Tätä kutsutaan Bernstein-Vazirani-algoritmiksi.\n",
    "\n",
    "Jos ehdimme, voimme palata Bernstein-Vaziranin algoritmiin ja pyrkiä näyttämään, miksi se toimii.\n",
    "\n",
    "\n",
    "### Bernstein-Vazirani-algoritmi\n",
    "\n",
    "a) Rakenna salasanaa $101101$ vastaava mustan laatikon toteutus ja sitä ympäröivä ratkaisualgoritmi:\n",
    "\n",
    "\n",
    "\n",
    "Alla koodiesimerkki mustan laatikon $U_f$ toteutuksesta. salasana on $1011$. Huomaa järjestys: salasanan ensimmäinen bitti vastaa syötekubiteista alimmaista, $x_3$. Salasanan $101101$ kanssa järjestyksellä ei ole kuitenkaan merkitystä.\n",
    "\n",
    "<img src=\"https://kvanttilaskenta.net/hub/static/content/kierros3/bv_box.png\" width=\"220\">\n",
    "\n",
    "Jos salasanassa on jossain kohdassa ykkösbitti, on mustan laatikon toteutuksessa CNOT-portti, joka kääntää tuloskubitin, jos syötteen vastaava bitti on yksi. Jos tuloskubittia käännetään parillinen määrä kertoja, ei piiri tee (tälle superposition osalle) mitään.\n",
    "\n",
    "Voit tarvittaessa hyödyntää myös ohjevideota:5\n",
    "\n",
    "<a href=\"https://youtu.be/sqJIpHYl7oo?t=241\" target=\"_blank\">Bernstein-Vazirani-algorimin tutoriaali</a>\n",
    "\n",
    "b) Simuloi kvanttipiirin toiminta, salasanan tulisi selvitä yhdellä algoritmin toistokerralla. Ohjeet tutoriaalissa.\n",
    "\n",
    "c) VAPAAEHTOINEN LISÄTEHTÄVÄ: Tee tutoriaalin loppuosassa oleva yleisempi algoritmi, jolla voit ratkaista $n$:stä bitistä koostuvan salasanan yhdellä yrityksellä. Tarkista piirin toiminta simuloimalla piiri.laskennallisesti\n"
   ]
  },
  {
   "cell_type": "code",
   "execution_count": null,
   "id": "nearby-bubble",
   "metadata": {},
   "outputs": [],
   "source": [
    "from qiskit import *\n",
    "%matplotlib inline\n",
    "from qiskit.tools.visualization import plot_histogram\n",
    "secretnumber='101101'\n",
    "\n",
    "circuit = QuantumCircuit(6+1,6)\n",
    "circuit.h([0,1,2,3,4,5])\n",
    "circuit.x(6)\n",
    "circuit.h(6)\n",
    "\n",
    "circuit.barrier()\n",
    "\n",
    "circuit.cx(5,6)\n",
    "circuit.cx(3,6)\n",
    "circuit.cx(0,6)\n",
    "\n",
    "circuit.barrier()\n",
    "circuit.h([0,1,2,3,4,5])\n",
    "\n",
    "circuit.barrier()\n",
    "circuit.measure([0,1,2,3,4,5],[0,1,2,3,4,5])\n"
   ]
  },
  {
   "cell_type": "code",
   "execution_count": null,
   "id": "thirty-technique",
   "metadata": {},
   "outputs": [],
   "source": [
    "circuit.draw(output='mpl')"
   ]
  }
 ],
 "metadata": {
  "kernelspec": {
   "display_name": "Python 3",
   "language": "python",
   "name": "python3"
  },
  "language_info": {
   "codemirror_mode": {
    "name": "ipython",
    "version": 3
   },
   "file_extension": ".py",
   "mimetype": "text/x-python",
   "name": "python",
   "nbconvert_exporter": "python",
   "pygments_lexer": "ipython3",
   "version": "3.9.1"
  }
 },
 "nbformat": 4,
 "nbformat_minor": 5
}
