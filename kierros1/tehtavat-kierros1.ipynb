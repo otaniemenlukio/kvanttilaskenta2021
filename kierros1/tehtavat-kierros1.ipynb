{
 "cells": [
  {
   "cell_type": "markdown",
   "metadata": {},
   "source": [
    "# Tervetuloa kvanttilaskennan lukiokurssille 2021 4.jakso\n",
    "\n",
    "Etäluennot MA klo 15.00 - 16.15 ja etäharjoitukset 8-palkissa KE klo 15.00 - 16.15.  Kurssi alkaa 8.2.2021. \n",
    "\n",
    "Luennot ja harjoitukset Streamataan verkkoon osallistua voi myös etänä. Viikottaisia kokoontumisia on yleensä 2 oppituntia. MA Luento ja KE opastettu laskuharjoitus, tehtävät voi palauttaa viikottain perjantaina klo 16.15 mennessä. Voit siis osallistua kurssille myös siten, että seuraat luentojen harjoitusten tallenteita omalla ajalla.\n",
    "\n",
    "## Luentojen ja laskuharjoitusten Meet-linkki ja tiedottaminen\n",
    "\n",
    "Olet saanut pysyvän Meet-linkin sähköpostiisi. Luennoilla ja harjoituksissa käytetään __aina samaa linkkiä__.\n",
    "\n",
    "\n",
    "Seuraa kurssin tiedottamista sähköpostissasi ja GitHubissa.\n",
    "\n",
    "## Ohjelmointiympäristöt\n",
    "\n",
    "Voit valita seuraavista:\n",
    "\n",
    "1 Omalle koneelle asennettu paikallinen Jupyter-ympäristö, asennusohjeet (advanced users):\n",
    "  * <a href=\"https://qiskit.org/documentation/install.html\" target =\"_blank\">IBM QISKIT Installation</a>\n",
    "    \n",
    "  * <a href=\"https://drive.google.com/file/d/1wkgPYrJ15oS_SI0BuTMr02ASOzoA-vty/view?usp=sharing\" target =\"_blank\">Lisäohjeita Linux-käyttäjille</a>\n",
    "\n",
    "  * Jos käytät Omalla tietokoneella toimivaa Jupyter-ympäristöä, niin sinun on osattava kloonata kurssin GitHub-repositorio tehtävien lataamista varten. Pikaohje, macissa ja linuxissa komentoriviltä eli terminaalista:\n",
    "\n",
    "  * repositorion lataus komennolla: `git clone https://github.com/otaniemenlukio/kvanttilaskenta2021`\n",
    "\n",
    "  * repositorion päivitys (reposition kansiossa annettava komento): `git pull`\n",
    "\n",
    "  * Tehtävät voi myös ladatajaetusta Google-kansiosta, jonka osoitteen olet saanut sähköpostiisi.  \n",
    "\n",
    "  * Tehtävien palautus tehdään tällöin __aina samalla Google Form-lomakkeella__, jonka linkin olet saanut sähköpostiisi.\n",
    "\n",
    "2 Verkkoselaimessa toimiva ohjelmointiympäristö (suositellaan, helppokäyttöinen)\n",
    "    <a href=\"https://koodikoulu.net\" target =\"_blank\">koodikoulu.net</a>\n",
    "\n",
    "  * Tehtävätiedostot ladataan (fetch) ja palautetaan verkkoympäristön sisällä. Ei edellytä asennuksia omalle koneelle. Suositellaan verkkopalvelun käyttöä, jos asennukset ei onistu tai GitHubin käyttö on sinulle vierasta. Koodikoulu.net-palvelun käyttöä harjoitellaan ensimmäisellä laskuharjoituskerralla.\n",
    "\n",
    "  * Kirjautuminen tehdään koodikoulu.net -palveluun gmail-tilillä tai eduespoo.fi-tilillä. Käyttöoikeudet saa Matti Heikkiseltä.\n",
    "\n",
    "## Laskuharjoitustehtävien lataaminen ja palautus\n",
    "\n",
    "Tehtävät voi ladata ja palauttaa kahdella eri tavalla.\n",
    "\n",
    "1) Jos käytät omassa tietokoneessa olevaa paikallista Jupyteria\n",
    "  * <a href=\"https://forms.gle/prDEWkMYrXiH5Cne6\" target =\"_blank\"></a>\n",
    "\n",
    "2) Jos käytät koodikoulu.net -verkkopalvelua, niin tehtävät ladataan ja palautetaan palvelun sisällä.\n",
    "\n",
    "\n"
   ]
  },
  {
   "cell_type": "markdown",
   "metadata": {},
   "source": [
    "### Johdantoesimerkki 1 Jupyter-notebookin suorittaminen\n",
    "Kerrataan pythonin perusteet\n",
    "int muuttujat  luku1 ja luku2 saavat alkuarvot\n",
    "Komennolla print tulostetaan näytölle\n",
    "suorita ohjelma yläpaneelista painamalla \"run\"\n",
    "\n",
    "![run](run.png)\n",
    "\n",
    "Testaa myös mitä muista yläpaneelin pikanäppäimistä tapahtuu. Muista talentaa tiedostosi. Klikkaa lopuksi auki tämä solu, jossa on kuva yläpaneelista. Tämä solu ei ole koodiblokki, vaan markdown-kenttä. Huomaa ero."
   ]
  },
  {
   "cell_type": "code",
   "execution_count": 1,
   "metadata": {},
   "outputs": [
    {
     "name": "stdout",
     "output_type": "stream",
     "text": [
      "Valitut luvut ovat 4 ja 6\n"
     ]
    }
   ],
   "source": [
    "luku1 = 4\n",
    "luku2 = 6\n",
    "print(\"Valitut luvut ovat\", luku1, \"ja\", luku2)"
   ]
  },
  {
   "cell_type": "markdown",
   "metadata": {},
   "source": [
    "### Johdantosimerkki 2\n",
    "\n",
    "Testaa koodia vaihtamalla muuttujien luku1 ja luku2 arvoja. Tavoite on vain harjoitella Jupyter-notebookin käyttöä. \n",
    "\n",
    "Jos tarvitset lisäharjoitusta python-perusteista, niin lyhyt pikaohje on erillisessä tiedostossa python-perusteet.ipynb. Voita ladata (fetch)-tidoston tai ladata sen kursssin jaetusta google-drivesta."
   ]
  },
  {
   "cell_type": "code",
   "execution_count": 2,
   "metadata": {},
   "outputs": [
    {
     "name": "stdout",
     "output_type": "stream",
     "text": [
      "Lukujen summa on 8\n"
     ]
    }
   ],
   "source": [
    "\n",
    "luku1 = -2\n",
    "luku2 = 10\n",
    "print(\"Lukujen summa on\", luku1 + luku2)"
   ]
  },
  {
   "cell_type": "markdown",
   "metadata": {},
   "source": [
    "## Tehtävä 1: Rekisteröityminen IBM:n palveluun\n",
    "\n",
    "Tehtävän 1 tavoiteena on varmistaa että jokainen on saanut oman avaimen eli tokenin aktivoitua qiskit-palvelussa.\n",
    "\n",
    "Tehtävä on nopea tehdä: suorita alla olevat koodilohkot järjestyksessä läpi.\n",
    "\n",
    "Jos et ole vielä ottanut tokenia käyttöön, tee näin:\n",
    "\n",
    "Rekisteröitymisen jälkeen liitä tokenisi [IBM Quantum Experiencen käyttäjäsivulta](https://quantum-computing.ibm.com/account) heittomerkkien sisään, ja aja koodi:"
   ]
  },
  {
   "cell_type": "code",
   "execution_count": null,
   "metadata": {},
   "outputs": [],
   "source": [
    "from qiskit import IBMQ\n",
    "IBMQ.save_account(\"oma token tähän\")"
   ]
  },
  {
   "cell_type": "markdown",
   "metadata": {},
   "source": [
    "Token täytyy syöttää vain kerran, koska se tallennetaan kvanttilaskenta.net-käyttäjäsi tai oman tietokoneen käyttäjäsi yhteyteen.\n",
    "\n",
    "**HUOM:** Ennen kuin palautat notebookin, ota tokenisi pois kentästä. Meidän ei tarvitse tietää sitä!\n",
    "\n",
    "Alla on yksinkertaisen kvanttipiirin koodi, jotka käsittelimme jo kierroksen 2 laskuharjoituksissa. Rakenna, simuloi ja lähetä piiri lopuksi oikealle kvanttitietokoneelle laskettavaksi.\n"
   ]
  },
  {
   "cell_type": "markdown",
   "metadata": {},
   "source": [
    "$$\\newcommand{\\ket}[1]{\\left|{#1}\\right\\rangle}$$\n",
    "$$\\newcommand{\\bra}[1]{\\left\\langle{#1}\\right|}$$\n",
    "\n",
    "## Tehtävä 2 Harjoitellaan kvanttipiirin määrittelyä ja ohjelmointia pythonilla.\n",
    "\n",
    "Seuraavassa esimerkissä kvanttipiiriä täydennetään kahdella kvanttirekisterillä ja kahdella klassisella rekisterillä. Kvanttipiiri luodaan syöttämällä rekisterit parametrina komennolle QuantumCircuit(). Kun H-portti operoi systeemiin, niin systeemin, niin kubitin 0 tila on määritetty tilojen $\\ket 0$ ja $\\ket 1$ superpositiona. Kun piirin tila mitataan, niin silloin systeemi siirtyy tiettyyn hyvin määritettyyn tilaan, jonka arvo tallenetaan klassiseen rekisteriin. Tämän jälkeen piirin toiminta simuloidaan, mutta piiriä ei vielä suoriteta oikealla kvanttitietokoneella.\n",
    "\n",
    "Tehtävän tavoite on harjoitella kvanttipiirin määrittelyä pythonin avulla. Piirin toiminta selitetään myöhemmin. \n",
    "\n",
    "\n",
    "Kvanttimekaanisella systeemillä jokaisella mahdollisella mitatulla tilalla on tietty todennäköisyys, ja kaikkien eri tilavaihtoehtojen todennäköisyyksien summa on 1.\n",
    "\n",
    "Voit halutessasi ohjelmoida piirin toteutuksen ja ajamisvaiheet itse seuraavan tutoriaalin avulla:\n",
    "\n",
    "<a href=\"https://youtu.be/RrUTwq5jKM4\" target=\"_blank\">IBM:n \"Hello World\"-piirin tutoriaali</a>"
   ]
  },
  {
   "cell_type": "code",
   "execution_count": null,
   "metadata": {},
   "outputs": [],
   "source": [
    "# Jos kirjoitat koodin itse, niin aloita tästä.\n",
    "from qiskit import *"
   ]
  },
  {
   "cell_type": "code",
   "execution_count": null,
   "metadata": {},
   "outputs": [],
   "source": [
    "# vaihtoehto 1: tyhjä koodiblokki josta voit jatkaa videon ohjeiden mukaisesti"
   ]
  },
  {
   "cell_type": "code",
   "execution_count": 3,
   "metadata": {},
   "outputs": [
    {
     "data": {
      "image/png": "[encoded data removed]",
      "text/plain": [
       "<Figure size 153.613x204.68 with 1 Axes>"
      ]
     },
     "execution_count": 3,
     "metadata": {},
     "output_type": "execute_result"
    }
   ],
   "source": [
    "# Vaihtoehto 2: valmis esimerkkikoodi tehtävään 2 suoritettavaksi.\n",
    "# Etene vaiheittain, suorita koodilohkot painamalla Run-nappia ylhäältä.\n",
    "\n",
    "from qiskit import *\n",
    "\n",
    "quantum_register = QuantumRegister(2)\n",
    "classical_register = ClassicalRegister(2)\n",
    "circuit = QuantumCircuit(quantum_register, classical_register)\n",
    "\n",
    "%matplotlib inline\n",
    "circuit.draw(output='mpl')"
   ]
  },
  {
   "cell_type": "code",
   "execution_count": 4,
   "metadata": {},
   "outputs": [
    {
     "data": {
      "image/png": "[encoded data removed]",
      "text/plain": [
       "<Figure size 213.813x204.68 with 1 Axes>"
      ]
     },
     "execution_count": 4,
     "metadata": {},
     "output_type": "execute_result"
    }
   ],
   "source": [
    "# Lisätään Hadamard-portti H \n",
    "circuit.h(quantum_register[0])\n",
    "circuit.draw(output='mpl')"
   ]
  },
  {
   "cell_type": "code",
   "execution_count": 5,
   "metadata": {},
   "outputs": [
    {
     "data": {
      "image/png": "[encoded data removed]",
      "text/plain": [
       "<Figure size 274.013x204.68 with 1 Axes>"
      ]
     },
     "execution_count": 5,
     "metadata": {},
     "output_type": "execute_result"
    }
   ],
   "source": [
    "# Lisätään kvanttipiiriin CNOT-portti cx()-komennolla\n",
    "circuit.cx(quantum_register[0], quantum_register[1])\n",
    "circuit.draw(output='mpl')"
   ]
  },
  {
   "cell_type": "code",
   "execution_count": 6,
   "metadata": {},
   "outputs": [
    {
     "data": {
      "image/png": "[encoded data removed]",
      "text/plain": [
       "<Figure size 394.413x204.68 with 1 Axes>"
      ]
     },
     "execution_count": 6,
     "metadata": {},
     "output_type": "execute_result"
    }
   ],
   "source": [
    "# Mitataan molemmat kubitit, ja tallennetaan tulokset klassiseen rekisteriin\n",
    "circuit.measure(quantum_register, classical_register)\n",
    "circuit.draw(output='mpl')"
   ]
  },
  {
   "cell_type": "code",
   "execution_count": 7,
   "metadata": {},
   "outputs": [
    {
     "data": {
      "image/png": "[encoded data removed]",
      "text/plain": [
       "<Figure size 504x360 with 1 Axes>"
      ]
     },
     "execution_count": 7,
     "metadata": {},
     "output_type": "execute_result"
    }
   ],
   "source": [
    "# Simuloidaan piirin toiminta.\n",
    "simulator = Aer.get_backend('qasm_simulator')\n",
    "execute(circuit, backend=simulator)\n",
    "result = execute(circuit, backend=simulator).result()\n",
    "from qiskit.tools.visualization import plot_histogram\n",
    "plot_histogram(result.get_counts(circuit))"
   ]
  },
  {
   "cell_type": "markdown",
   "metadata": {},
   "source": [
    "## Johdantoesimerkki 3\n",
    "\n",
    "Tutustu esimerkiksi seuraavan esimerkin avulla miten matriisien avulla voidaan esittää xy-tason lineaarisia kuvauksia matematiikassa:\n",
    "<a href =\"https://www.lukemaverkosto.fi/materiaali/valokuvien-matematiikkaa-geogebralla-ja-ohjelmoimalla-osa-1-2/\" target=\"_blank\">xy-tason lineaarikuvaukset</a>\n",
    "\n",
    "Lasketaan esimerkkinä seuraava $2x2$ matriisin $A$ ja pystyvektorin $v$ tulo:\n",
    "![tulo1](tulo1.png)\n",
    "\n",
    "Aukikirjoitetutta algebra etenee seuraavasti:\n",
    "![tulo2](tulo2.png)\n",
    "\n",
    "Pythonissa matriisin $A$ ja pystyvektorin $v$ tulo voidaan esitettää seuraavasti:\n"
   ]
  },
  {
   "cell_type": "code",
   "execution_count": 10,
   "metadata": {},
   "outputs": [
    {
     "name": "stdout",
     "output_type": "stream",
     "text": [
      "[-1.  3.]\n"
     ]
    }
   ],
   "source": [
    "import numpy as np\n",
    "\n",
    "#lineaarinen kuvaus a\n",
    "A = np.float32(np.array([[3, 2],[-2, 1]]))\n",
    "\n",
    "# pystyvektori v\n",
    "v = np.float32(np.array([-1,1]))\n",
    "\n",
    "# lasketaan tulo\n",
    "u = A@v\n",
    "\n",
    "print(u)"
   ]
  },
  {
   "cell_type": "markdown",
   "metadata": {},
   "source": [
    "$$\\newcommand{\\ket}[1]{\\left|{#1}\\right\\rangle}$$\n",
    "$$\\newcommand{\\bra}[1]{\\left\\langle{#1}\\right|}$$\n",
    "\n",
    "## Tehtävä 3\n",
    "\n",
    "Kvanttitietokoneen muistissa tieto esitetään kubittien avulla. Kubitin perustilat ovat $\\ket 0$ ja $\\ket{1}$, ja ne esitetään pystyvektoreina\n",
    "\n",
    "$$\n",
    "\\begin{align}\n",
    "\\ket 0 &= \\pmatrix {1 \\\\ 0}, \\\\\n",
    "\\ket 1 &= \\pmatrix {0 \\\\ 1}.\n",
    "\\end{align}\n",
    "$$\n",
    "\n",
    "NOT-portin matriisiesitys on seuraava:\n",
    "\n",
    "$$\n",
    "X=\\pmatrix {0 & 1 \\\\ 1 & 0}\n",
    "$$\n",
    "\n",
    "Osoita laskemalla matriisin $X$ ja pystyvektorien tulot, että kun $X$-portti operoi kubittiin, niin kubitin tila muuttuu käänteiseksi (bit-flip gate), eli\n",
    "\n",
    "$$\n",
    "X\\ket 0 = \\ket 1 \\\\\n",
    "X\\ket 1 = \\ket 0\n",
    "$$"
   ]
  },
  {
   "cell_type": "code",
   "execution_count": null,
   "metadata": {},
   "outputs": [],
   "source": [
    "# Laske tehtävä tähän pythonilla:"
   ]
  },
  {
   "cell_type": "markdown",
   "metadata": {},
   "source": [
    "## Tehtävä 4\n",
    "Lue johdantoartikkeli <a href=\"https://www.lukemaverkosto.fi/materiaali/johdanto-kvanttilaskentaan/\" target =\"_blank\">Kvanttitietokoneet ja kvanttilaskennan perusteet</a>\n",
    "\n",
    "a) Artikkelin esimerkin avulla muunna binääriluvuksi 10-järjestelmän luku $123_{10}$ \n",
    "\n",
    "b) Kokeile kuvata seuraava klassisen tietokoneen loogisen portin toiminta totuustaulukon avulla.\n",
    "![gate](gate.png)\n",
    "Käyttämällä apuna seuraavaa liitettä\n",
    "\n",
    "<a href =\"https://drive.google.com/file/d/1QiqiPUY9S8bUTxdQkYb5NK-fqpYoyE-E/view?usp=sharing\" target=\"_blank\">Loogiset peruspiirit</a>\n",
    "\n",
    "c) Kerro lyhyesti linkin videon perusteella, mitä ovat klassisten ja kvanttitietokoneiden oleelliset erot? \n",
    "\n",
    "<a href = \"https://www.youtube.com/watch?v=WVv5OAR4Nik&feature=youtu.be \" target = \"_blank\">How quantum Computers work</a>\n"
   ]
  },
  {
   "cell_type": "markdown",
   "metadata": {},
   "source": []
  }
 ],
 "metadata": {
  "kernelspec": {
   "display_name": "Python 3",
   "language": "python",
   "name": "python3"
  },
  "language_info": {
   "codemirror_mode": {
    "name": "ipython",
    "version": 3
   },
   "file_extension": ".py",
   "mimetype": "text/x-python",
   "name": "python",
   "nbconvert_exporter": "python",
   "pygments_lexer": "ipython3",
   "version": "3.8.5"
  }
 },
 "nbformat": 4,
 "nbformat_minor": 2
}
