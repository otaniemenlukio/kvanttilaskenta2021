{
 "cells": [
  {
   "cell_type": "markdown",
   "metadata": {},
   "source": [
    "### Esimerkki 1\n",
    "Kerrataan pythonin perusteet\n",
    "int muuttujat  luku1 ja luku2 saavat alkuarvot\n",
    "Komennolla print tulostetaan näytölle\n",
    "suorita ohjelma yläpaneelista painamalla \"run\"\n",
    "\n",
    "![run](run.png)"
   ]
  },
  {
   "cell_type": "code",
   "execution_count": 1,
   "metadata": {},
   "outputs": [
    {
     "name": "stdout",
     "output_type": "stream",
     "text": [
      "Valitut luvut ovat 4 ja 6\n"
     ]
    }
   ],
   "source": [
    "luku1 = 4\n",
    "luku2 = 6\n",
    "print(\"Valitut luvut ovat\", luku1, \"ja\", luku2)"
   ]
  },
  {
   "cell_type": "markdown",
   "metadata": {},
   "source": [
    "### Esimerkki 2\n",
    "\n",
    "Testaa koodia vaihtamalla muuttujien luku1 ja luku2 arvoja"
   ]
  },
  {
   "cell_type": "code",
   "execution_count": 2,
   "metadata": {},
   "outputs": [
    {
     "name": "stdout",
     "output_type": "stream",
     "text": [
      "Lukujen summa on 8\n"
     ]
    }
   ],
   "source": [
    "\n",
    "luku1 = -2\n",
    "luku2 = 10\n",
    "print(\"Lukujen summa on\", luku1 + luku2)"
   ]
  },
  {
   "cell_type": "markdown",
   "metadata": {},
   "source": [
    "### Esimerkki 3:\n",
    "Näppäimistöltä lukeminen"
   ]
  },
  {
   "cell_type": "code",
   "execution_count": 3,
   "metadata": {},
   "outputs": [
    {
     "name": "stdout",
     "output_type": "stream",
     "text": [
      "Kerro nimesi\n",
      "khj\n",
      "Hei khj\n"
     ]
    }
   ],
   "source": [
    "\n",
    "nimi = input(\"Kerro nimesi\\n\")\n",
    "print(\"Hei\", nimi)"
   ]
  },
  {
   "cell_type": "markdown",
   "metadata": {},
   "source": [
    "### Esimerkki 4: Tyyppimuunnokset\n",
    "\n",
    "input-käsky palauttaa käyttäjän syötteen\n",
    "aina merkkijonona, joten ennen kuin\n",
    "käyttäjältä saatuja tietoja voi käyttää\n",
    "laskutoimituksissa, tulee tehdä tyyppimuunnos merkkijonosta luvuksi.\n",
    "float tarkoittaa desimaalilukua, int kokonaislukua \n"
   ]
  },
  {
   "cell_type": "code",
   "execution_count": 5,
   "metadata": {},
   "outputs": [
    {
     "name": "stdout",
     "output_type": "stream",
     "text": [
      "Anna luku, kerron sen kahdella\n",
      "2\n",
      "Luku kaksinkertaisena on 4.0\n"
     ]
    }
   ],
   "source": [
    "\n",
    "luku = input(\"Anna luku, kerron sen kahdella\\n\")\n",
    "tulos = float(luku) * 2\n",
    "print(\"Luku kaksinkertaisena on\", tulos)\n"
   ]
  },
  {
   "cell_type": "code",
   "execution_count": null,
   "metadata": {},
   "outputs": [],
   "source": [
    "#Esimerkki 4: Vakiot\n",
    "KILOHINTA = 2.5\n",
    "PAKKAUSKULUT = 4.0\n",
    "paino = float(input(\"Anna paino kilogrammoina:\\n\"))\n",
    "print(\"Tuote maksaa\", paino * KILOHINTA + PAKKAUSKULUT, \"euroa.\")"
   ]
  },
  {
   "cell_type": "markdown",
   "metadata": {},
   "source": [
    "### Esimerkki 5: Ehtolauseet\n",
    "Testaa koodia vaihtamalla muuttujan luku arvoa\n",
    "Vain ensimmäinen ehdot täyttävä osio\n",
    "suoritetaan, loput jätetään huomiotta\n",
    "\n",
    "Ehtolauseessa voi olla (tai olla olematta)\n",
    "rajaton määrä elif-osia ja yksi else-osa"
   ]
  },
  {
   "cell_type": "code",
   "execution_count": null,
   "metadata": {},
   "outputs": [],
   "source": [
    "luku = 0\n",
    "if luku > 0:\n",
    " print(\"Luku on nollaa suurempi\")\n",
    "elif luku < 0:\n",
    " print(\"Luku on nollaa pienempi\")\n",
    "else:\n",
    " print(\"Luku on nolla\")"
   ]
  },
  {
   "cell_type": "markdown",
   "metadata": {},
   "source": [
    "### Esimerkki 6\n",
    "while-silmukan avulla voidaan toistaa koodia\n",
    "niin kauan kuin jatkamisehto on voimassa\n",
    "Jatkamisehto tarkistetaan jokaisen kierroksen\n",
    "alussa, myös ensimmäisen\n",
    "Silmukkaa ei siis välttämättä suoriteta kertaakaan\n"
   ]
  },
  {
   "cell_type": "code",
   "execution_count": null,
   "metadata": {},
   "outputs": [],
   "source": [
    "kierros = 0\n",
    "while kierros < 5:\n",
    " print(kierros)\n",
    " kierros += 1\n",
    "print(\"Silmukka suoritettiin\", kierros, \"kertaa\")"
   ]
  },
  {
   "cell_type": "markdown",
   "metadata": {},
   "source": [
    "### Esimerkki 7:\n",
    "\n",
    "Jatkamisehto määritellään samalla tavalla\n",
    "kuin if-lauseessa\n",
    "Jos jatkamisehto ei ole voimassa, ohjelman\n",
    "suorittaminen jatkuu seuraavasta\n",
    "sisentämättömästä rivistä silmukan jälkeen"
   ]
  },
  {
   "cell_type": "code",
   "execution_count": null,
   "metadata": {},
   "outputs": [],
   "source": [
    "kierros = 0\n",
    "while kierros != 8:\n",
    " print(kierros)\n",
    " kierros += 1\n",
    "print(\"Silmukka suoritettiin\", kierros, \"kertaa\")"
   ]
  },
  {
   "cell_type": "markdown",
   "metadata": {},
   "source": [
    "### Esimerkki 8 for-silmukka\n",
    "\n",
    "for-silmukan avulla voidaan toistaa koodia, jos\n",
    "toistojen määrä tiedetään heti silmukan alussa\n",
    "for-silmukkaan kuuluu aina muuttuja, jonka arvo\n",
    "päivittyy automaattisesti (edellisessä esimerkissä tätä muuttujaa ei vain tarvittu mihinkään)\n",
    "\n",
    "for-silmukan avulla voidaan käydä läpi myös luvut\n",
    "ennalta määritellyltä väliltä\n",
    "\n",
    "Toistojen määrä tai lukuväli voi olla kiinteästi\n",
    "koodissa tai arvot voidaan lukea muuttujista\n",
    "\n",
    "Huomaa, ettei for-silmukka saavuta koskaan\n",
    "viimeistä parametrina annettua lukua!\n"
   ]
  },
  {
   "cell_type": "code",
   "execution_count": null,
   "metadata": {},
   "outputs": [],
   "source": [
    "for luku in range(5):\n",
    " print(\"Hei Qubitti\", luku, \".kerran\")\n",
    " #print(luku)"
   ]
  },
  {
   "cell_type": "markdown",
   "metadata": {},
   "source": [
    "### Esimerkki 9\n",
    "\n",
    "Funktiot ovat ohjelman sisällä olevia pieniä\n",
    "osia, jotka suorittavat jonkin tehtävän\n",
    "Funktio määritellään sanalla def ja sitä\n",
    "kutsutaan funktion nimellä\n",
    "\n",
    "Funktiolla voi olla nolla, yksi tai useita\n",
    "parametreja, joita voi käsitellä funktiossa\n",
    "muuttujien tavoin\n",
    "\n",
    "Funktiosta on mahdollista palauttaa yksi tai\n",
    "useita arvoja return-käskyllä\n",
    "\n",
    "Funktiossa voi olla useita return-käskyjä,\n",
    "mutta niistä kuitenkin suoritetaan vain yksi,\n",
    "minkä jälkeen funktiosta poistutaan\n",
    "välittömästi\n",
    "\n"
   ]
  },
  {
   "cell_type": "code",
   "execution_count": null,
   "metadata": {},
   "outputs": [],
   "source": [
    "\n",
    "#Funktiolla ei ole parametria, ei paluuarvoa\n",
    "def sano_tervehdys():\n",
    " print(\"Hello Quantum Espoo!\")\n",
    "\n",
    "# Pelkkä paluuarvo:\n",
    "def kysy_nimi():\n",
    " vastaus = input(\"Kuka olet?\\n\")\n",
    " return vastaus\n",
    "\n",
    "# yksi parametri\n",
    "def tulosta_teksti(teksti):\n",
    " print(teksti)\n",
    "\n",
    "#  kaksi parametria, yksi paluuarvo\n",
    "def laske_tulo(luku1, luku2):\n",
    " return luku1 * luku2\n",
    "\n",
    "\n",
    "#kutsutaan funktiota\n",
    "sano_tervehdys()\n",
    "    \n",
    "# tallenetaan nimi pääohjelman muuttujaan nimi\n",
    "nimi = kysy_nimi()\n",
    "\n",
    "#tulostus:\n",
    "tulosta_teksti(nimi)\n",
    "\n",
    "# lasketaan lukujen tulo ja tallentaan tulos tulo-muuttujaan:\n",
    "tulo = laske_tulo(2,3)\n",
    "tulosta_teksti(tulo)\n"
   ]
  },
  {
   "cell_type": "code",
   "execution_count": null,
   "metadata": {},
   "outputs": [],
   "source": [
    "\n",
    "luku1 = 3\n",
    "luku2 = - 5\n",
    "luku3 = 10"
   ]
  },
  {
   "cell_type": "markdown",
   "metadata": {},
   "source": [
    "### Tehtävä1\n",
    "Jatka kirjoittamalla tähän ikkunaan koodi, joka laskee ja tulostaa lukujen keskiarvon:"
   ]
  },
  {
   "cell_type": "code",
   "execution_count": null,
   "metadata": {},
   "outputs": [],
   "source": [
    "# Kirjoita koodisi tähän"
   ]
  },
  {
   "cell_type": "code",
   "execution_count": null,
   "metadata": {},
   "outputs": [],
   "source": [
    "# Kirjoita ohjelma, joka kutsuu funktiona\n",
    "def lukujen_tulo(luku1, luku2):\n",
    "    return luku1 * luku2\n",
    "    "
   ]
  },
  {
   "cell_type": "markdown",
   "metadata": {},
   "source": [
    "### Tehtävä2\n",
    "Kirjoita ohjelma, joka kutsuu funktiota lukujen_tulo arvoilla 7 ja 8 ja\n",
    "tulostaa lukujen tulon.\n",
    "\n"
   ]
  },
  {
   "cell_type": "code",
   "execution_count": null,
   "metadata": {},
   "outputs": [],
   "source": [
    "#Kirjoita koodisi tähän"
   ]
  },
  {
   "cell_type": "code",
   "execution_count": null,
   "metadata": {},
   "outputs": [],
   "source": []
  }
 ],
 "metadata": {
  "kernelspec": {
   "display_name": "Python 3",
   "language": "python",
   "name": "python3"
  },
  "language_info": {
   "codemirror_mode": {
    "name": "ipython",
    "version": 3
   },
   "file_extension": ".py",
   "mimetype": "text/x-python",
   "name": "python",
   "nbconvert_exporter": "python",
   "pygments_lexer": "ipython3",
   "version": "3.8.5"
  }
 },
 "nbformat": 4,
 "nbformat_minor": 2
}
