{
 "cells": [
  {
   "cell_type": "markdown",
   "id": "explicit-beauty",
   "metadata": {},
   "source": [
    "## Esimerkki 1: yleinen U-portti ja kubitin superpositiotilan muodostaminen\n",
    "\n",
    "Qiskitissä kubitin tilaa voidaan muuttaa yleisellä U-portilla, joka soveltuu hyvin erilaisten kubitin superpositiotilojen luomiseen. U-portin avulla voidaan toteuttaa myös muiden kvanttiportien (esim. $X$, $Y$ ja $Z$) mukaiset kierrot, joilla muutetaan kubitin tilaa.  \n",
    "\n",
    "Unitaarisen U-portin matriisiesitys (Huomaa, että U on kolmen muuttujan $\\theta, \\phi, \\lambda$ funktio):\n",
    "![u_matriisi](images/u-gate.png)\n",
    "\n",
    "Missä $i$ on kompleksitason imaginaariyksikkö, eksponenttifunktion kantaluku $e=2.71..$ on Neperin luku, ja kulmat $\\theta$ ja $\\phi$ ovat kiertoja Blochin pallolla z-akselin ja x-akselin suhteen:\n",
    "\n",
    "![bloch_sphere](images/bloch.png)\n",
    "\n",
    "Kubitin tilavekotorin $|\\psi >$ esittämisessä käytettävien kulmien arvojoukot:\n",
    "$0\\le\\theta\\le\\pi$ ja $0\\le\\phi\\le2\\pi$ ja kubitin ns. yleinen vaihe  $0\\le\\lambda\\le2\\pi$, missä kulmat on esitetty radiaaneissa. \n",
    "\n",
    "Muista muuntosuhde radiaanien ja asteiden välillä: $\\pi = 180^o$ eli esimerkiksi kulma $\\frac{\\pi}{2} = 90^o$ ja $\\frac{\\pi}{4} = 45^o$. Jatkossa tarvittavia trigonometristen funktioiden arvoja: $sin(\\frac{\\pi}{2})=1, cos(\\frac{\\pi}{2})=0 $, $cos(\\pi)= -1$ ja $sin(\\pi)=0$.\n",
    "\n",
    "### Esimerkki 1\n",
    "Valitaan kubitin alkutilaksi $\\psi = |0>$ ja kulmien $\\theta$ ja $\\phi$ sekä vaiheen $\\lambda$ arvoiksi $\\frac{\\pi}{2}$.  Muodostetaan U-matriisiesitys:'\n",
    "\n",
    "\n",
    "Olkoon\n",
    "$$\n",
    "U(\\frac{\\pi}{2},\\frac{\\pi}{2},\\frac{\\pi}{2})=  \\pmatrix {cos(\\frac{\\pi}{4}) & -e^{i\\frac{\\pi}{2}}sin(\\frac{\\pi}{4}) \\\\ e^{i\\frac{\\pi}{2}}sin(\\frac{\\pi}{4}) & e^{i\\frac{\\pi}{2}+i\\frac{\\pi}{2}}cos(\\frac{\\pi}{4})} \n",
    "$$\n",
    "\n",
    "\n",
    "\n",
    "Koska $sin(\\frac{\\pi}{2})= 1$ ja $cos(\\frac{\\pi}{2})= 0$ ja $sin(\\frac{\\pi}{4})=cos(\\frac{\\pi}{4})=\\frac{1}{\\sqrt{2}}$, sekä Eulerin kaavan mukaan $e^{i\\pi}=cos(\\pi)+isin(\\pi)=-1+0i=-1$ ja $e^{i\\frac{\\pi}{2}}=cos(\\frac{\\pi}{2})+isin(\\frac{\\pi}{2})=0+i =i$, niin U-matriisi sievenee muotoon:\n",
    "\n",
    "$$\n",
    "U(\\frac{\\pi}{2},\\frac{\\pi}{2},\\frac{\\pi}{2})=  \\pmatrix {\\frac{1}{\\sqrt{2}} & -i\\frac{1}{\\sqrt{2}} \\\\ i\\frac{1}{\\sqrt{2}} & -\\frac{1}{\\sqrt{2}}}=\\frac{1}{\\sqrt{2}}\\pmatrix{1&-i \\\\ i &-1} \n",
    "$$\n",
    "\n",
    "\n",
    "Operoidaan alkutilassa $|0>$ olevaan kubittiin U-matriisilla, jolloin saadaan uusi tilavektori $|\\psi '>$:\n",
    "\n",
    "$$\n",
    "|\\psi '> = U|0> = \\frac{1}{\\sqrt{2}}\\pmatrix{1&-i \\\\ i &-1}  \\pmatrix {1 \\\\0} = \\frac{1}{\\sqrt{2}}\\pmatrix {1 \\\\i}\n",
    "$$\n",
    "\n",
    "Esitetään U-Matriisilla toteutettu kierto eli superpositiotilan muodostaminen kantavektorien $|0>=\\pmatrix{1\\\\0}$ ja$|1>=\\pmatrix{0\\\\1}$ avulla:\n",
    "\n",
    "$$\n",
    "|\\psi '> = U|0> = \\frac{1}{\\sqrt{2}}\\pmatrix {1 \\\\i} = \\frac{1}{\\sqrt{2}}\\pmatrix{1\\\\0}+i\\frac{1}{\\sqrt{2}}\\pmatrix{0\\\\1} =\n",
    "\\frac{1}{\\sqrt{2}}|0>+i\\frac{1}{\\sqrt{2}}|1>\n",
    "$$\n",
    "\n",
    "Tulos tarkoittaa, että kun alkutilaan $|0>$ operoitiin U-matriisilla, niin kubitti siirtyi tilojen $|0>$ ja $|1>$ superpositiotilaan $|\\psi '>$. \n",
    "\n",
    "Alla on esitetty miten esimerkin 1 kubitin superpositiotilan muodostaminen tehdään qiskitin metodilla `.u(angle1, angle2, angle3)`."
   ]
  },
  {
   "cell_type": "code",
   "execution_count": 57,
   "id": "revised-security",
   "metadata": {},
   "outputs": [],
   "source": [
    "# Useful additional packages\n",
    "import matplotlib.pyplot as plt\n",
    "%matplotlib inline\n",
    "import numpy as np\n",
    "from math import pi"
   ]
  },
  {
   "cell_type": "code",
   "execution_count": 58,
   "id": "ranking-yemen",
   "metadata": {},
   "outputs": [],
   "source": [
    "from qiskit import *\n",
    "#from qiskit import QuantumCircuit, ClassicalRegister, QuantumRegister, execute\n",
    "from qiskit.tools.visualization import circuit_drawer\n",
    "from qiskit.quantum_info import state_fidelity\n",
    "from qiskit import BasicAer\n",
    "\n",
    "backend = BasicAer.get_backend('unitary_simulator')"
   ]
  },
  {
   "cell_type": "code",
   "execution_count": 59,
   "id": "engaged-increase",
   "metadata": {},
   "outputs": [
    {
     "data": {
      "text/html": [
       "<pre style=\"word-wrap: normal;white-space: pre;background: #fff0;line-height: 1.1;font-family: &quot;Courier New&quot;,Courier,monospace\">       ┌───┐┌────────────┐\n",
       "q45_0: ┤ H ├┤ U(π/4,0,0) ├\n",
       "       └───┘└────────────┘\n",
       " c1: 1/═══════════════════\n",
       "                          </pre>"
      ],
      "text/plain": [
       "       ┌───┐┌────────────┐\n",
       "q45_0: ┤ H ├┤ U(π/4,0,0) ├\n",
       "       └───┘└────────────┘\n",
       " c1: 1/═══════════════════\n",
       "                          "
      ]
     },
     "execution_count": 59,
     "metadata": {},
     "output_type": "execute_result"
    }
   ],
   "source": [
    "q = QuantumRegister(1)\n",
    "cr =ClassicalRegister(1)\n",
    "qc = QuantumCircuit(q,cr)\n",
    "qc.h(0) #tehtavaa 3 varten\n",
    "#qc.u(pi/2,pi/2,pi/2,q)\n",
    "#qc.u(pi,0,pi,q) X-portti tehtavaa 1 varten\n",
    "#qc.u(pi/2,0,pi,q) H-portti\n",
    "qc.u(pi/4,0,0,q)\n",
    "qc.draw()"
   ]
  },
  {
   "cell_type": "code",
   "execution_count": 60,
   "id": "descending-congress",
   "metadata": {},
   "outputs": [
    {
     "data": {
      "text/plain": [
       "array([[ 0.38268343+0.00000000e+00j,  0.92387953-1.13142611e-16j],\n",
       "       [ 0.92387953+0.00000000e+00j, -0.38268343+4.68652041e-17j]])"
      ]
     },
     "execution_count": 60,
     "metadata": {},
     "output_type": "execute_result"
    }
   ],
   "source": [
    "job = execute(qc, backend)\n",
    "job.result().get_unitary(qc, decimals=2)"
   ]
  },
  {
   "cell_type": "markdown",
   "id": "artistic-gravity",
   "metadata": {},
   "source": [
    "Huomaa numpyn imaginääriyksikkö on j. Lisäksi tulosteen merkintä $e^{-01}$ tarkoittaa numpyssä kerrointa $10^{-1}$. Lisäksi numeeriset arvot $e^{-17}$ pyöristyvät luvuksi 0. \n",
    "\n",
    "Tulostettu array vastaa esimerkin 1 tarkastelua.\n",
    "\n",
    "## Tehtävä 1\n",
    "a) Osoita esimerkin 1 U-matriisin sieventämisen TAI helpommin muokkaamalla esimerkin 1 python koodia:  bit-flip-gate eli X-portti voidaan toteuttaa U-matriisilla seuraavasti:\n",
    "\n",
    "$$\n",
    "X =\\pmatrix{0&1\\\\1&0}= U(\\pi,0,\\pi)\n",
    "$$\n",
    "\n",
    "Ohje, sijoita U-matriisiin seuraavat kulmien arvot: $\\theta =\\pi,\\phi=0$ ja globaalivaihe $\\lambda=\\pi$.\n",
    "\n",
    "b) Osoita esimerkin 1 U-matriisin tai python-koodia muokkaamalla, että Hadamard-portti eli H-gate voidaan muodostaa U-matriisilla seuraavasti:\n",
    "\n",
    "$$\n",
    "H =\\frac{1}{\\sqrt{2}}\\pmatrix{1&1\\\\1&-1} = U(\\frac{\\pi}{2},0,\\pi)\n",
    "$$"
   ]
  },
  {
   "cell_type": "markdown",
   "id": "occupational-commander",
   "metadata": {},
   "source": [
    "## Esimerkki 2: kubitin superpositiotilan mittaaminen ja tietyn tilan todennäköisyyden laskeminen\n",
    "\n",
    "Jatketaan esimerkin 1 tilavektorin \n",
    "\n",
    "$$\n",
    "|\\psi '> = U|0>  =\n",
    "\\frac{1}{\\sqrt{2}}|0>+i\\frac{1}{\\sqrt{2}}|1> =\\frac{1}{\\sqrt{2}}\\pmatrix {1 \\\\i}\n",
    "$$\n",
    "\n",
    "tarkastelua. Tavoitteena on laskea millä todennäköisyydellä mittauksessa superpositiotila $|\\psi '>$ tipahtaa mittauksessa tilaan $|0>$.  Katso tarvittaessa bra-ket-esityksen\n",
    "<a href =\"https://youtu.be/aVFe08G0uYk\" target=\"_blank\">ohjevideo</a>.\n",
    "\n",
    "Muodostetaan ket-vektrista $|0>$ bra-vektori $<0|$, ja muodostetaan vastaava kompleksikonjukaatin transpoosi tilavektorille $|\\psi '>$: \n",
    "\n",
    "\n",
    "$$\n",
    "|0> = \\pmatrix {1 \\\\0}\n",
    "$$\n",
    "\n",
    "$$\n",
    "<0| =\\pmatrix {1 &0}\n",
    "$$\n",
    "\n",
    "ja\n",
    "\n",
    "$$\n",
    "< \\psi ' | = \\frac{1}{\\sqrt{2}}\\pmatrix {1 &-i}\n",
    "$$\n",
    "\n",
    "Tilan $|0>$ todennäköisyys ([]-sulut laskujärjestyksen hahmottamiseksi):\n",
    "$$\n",
    "P(0)= < \\psi ' ||0><0|\\psi'>  = [\\frac{1}{\\sqrt{2}}\\pmatrix {1 &-i}\\pmatrix {1 \\\\0}][ \\pmatrix {1 &0}  \\frac{1}{\\sqrt{2}}\\pmatrix {1 \\\\i}]= [\\frac{1}{\\sqrt{2}}][\\frac{1}{\\sqrt{2}}] =\\frac{1}{2}\n",
    "$$\n"
   ]
  },
  {
   "cell_type": "code",
   "execution_count": 61,
   "id": "threatened-colorado",
   "metadata": {},
   "outputs": [
    {
     "data": {
      "image/png": "[encoded data removed]",
      "text/plain": [
       "<Figure size 288x288 with 1 Axes>"
      ]
     },
     "execution_count": 61,
     "metadata": {},
     "output_type": "execute_result"
    }
   ],
   "source": [
    "# Piirretään qubitin kvanttitila blochin pallolle\n",
    "from qiskit.visualization import plot_bloch_multivector\n",
    "backend = Aer.get_backend('statevector_simulator')\n",
    "result = execute(qc,backend).result()\n",
    "out_state = result.get_statevector()\n",
    "plot_bloch_multivector(out_state)"
   ]
  },
  {
   "cell_type": "markdown",
   "id": "initial-astronomy",
   "metadata": {},
   "source": [
    "## Tehtävä 2\n",
    "Olkoon kubitti alkutilassa $|0> = \\pmatrix{1\\\\0}$. Muodosta superpositiotila $|+>$ operoimalla Hadamard-portilla:\n",
    "\n",
    "$$\n",
    "|+> = H |0>\n",
    "$$\n",
    "\n",
    "ja laske esimerkin 2 avulla bra-ket-esitystä käyttäen tilan $|1>$ todennäköisyys:\n",
    "\n",
    "$$\n",
    "P(1)= <+|1><1||+>\n",
    "$$"
   ]
  },
  {
   "cell_type": "markdown",
   "id": "scenic-bradley",
   "metadata": {},
   "source": [
    "## Tehtävä 3\n",
    "\n",
    "Muodosta edellisen kierroksen 3 johdantoesimerkin y-akselin suhteen tehtävä kiertomatriisi $R_y(\\theta)$\n",
    "$$\n",
    "R_y(\\theta) =  U(\\theta,0,0)\n",
    "$$\n",
    "\n",
    "ja muodosta esimerkin 2 avulla tila $|\\psi>=R_y(\\frac{\\pi}{2}) |+>$ ja laske bra-ket-esityksen avulla TAI simuloi pythonilla todennäköisyys, että näiden operaatioiden jälkeen havaitaan mittauksessa tila $|1>$:\n",
    "\n",
    "$$\n",
    "P(1)=<\\psi||+><+||\\psi>\n",
    "$$\n",
    "\n"
   ]
  },
  {
   "cell_type": "code",
   "execution_count": 63,
   "id": "broke-tracker",
   "metadata": {},
   "outputs": [
    {
     "data": {
      "text/plain": [
       "<qiskit.circuit.instructionset.InstructionSet at 0x7f9988e39610>"
      ]
     },
     "execution_count": 63,
     "metadata": {},
     "output_type": "execute_result"
    }
   ],
   "source": [
    "# Mitataan molemmat kubitit, ja tallennetaan tulokset klassiseen rekisteriin\n",
    "qc.measure(q, cr)\n"
   ]
  },
  {
   "cell_type": "code",
   "execution_count": 64,
   "id": "compatible-thompson",
   "metadata": {},
   "outputs": [
    {
     "data": {
      "image/png": "[encoded data removed]",
      "text/plain": [
       "<Figure size 504x360 with 1 Axes>"
      ]
     },
     "execution_count": 64,
     "metadata": {},
     "output_type": "execute_result"
    }
   ],
   "source": [
    "# Simuloidaan piirin toiminta.\n",
    "simulator = Aer.get_backend('qasm_simulator')\n",
    "execute(qc, backend=simulator)\n",
    "result = execute(qc, backend=simulator).result()\n",
    "from qiskit.tools.visualization import plot_histogram\n",
    "plot_histogram(result.get_counts(qc))"
   ]
  },
  {
   "cell_type": "code",
   "execution_count": null,
   "id": "about-career",
   "metadata": {},
   "outputs": [],
   "source": []
  }
 ],
 "metadata": {
  "kernelspec": {
   "display_name": "Python 3",
   "language": "python",
   "name": "python3"
  },
  "language_info": {
   "codemirror_mode": {
    "name": "ipython",
    "version": 3
   },
   "file_extension": ".py",
   "mimetype": "text/x-python",
   "name": "python",
   "nbconvert_exporter": "python",
   "pygments_lexer": "ipython3",
   "version": "3.9.1"
  }
 },
 "nbformat": 4,
 "nbformat_minor": 5
}
