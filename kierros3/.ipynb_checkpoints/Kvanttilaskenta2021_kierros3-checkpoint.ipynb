{
 "cells": [
  {
   "cell_type": "markdown",
   "id": "fitted-authentication",
   "metadata": {},
   "source": [
    "## Kvanttilaskenta 2021 laskuharjoitukset kierros 3\n",
    "\n",
    "$$\\newcommand{\\ket}[1]{\\left|{#1}\\right\\rangle}$$\n",
    "$$\\newcommand{\\bra}[1]{\\left\\langle{#1}\\right|}$$\n",
    "\n",
    "Kierroksella 3 kerrataan ja täydennetään yhden kubitin kvanttipiirin porttien toimintaa, ja tutustutaan kahden kubitin tilan esittämisene ja kahden kubitin CNOT-portin toimintaan.\n",
    "\n",
    "\n",
    "Kierroksen kolme tehtävissä eräänä tavoitteena on tutkia miten erilaisten kvanttiporttien operaatiot vaikuttavat kubitin kvanttitilaa esittävään tilavektoriin Blochin pallolla. Sen takia on tärkeää tutkia tehtävien ratkaisuja myös <a href=\"https://bloch.ollpu.fi/\" target=\"_blank\">Blochin palloa kuvaavan simulaation avulla.</a>. "
   ]
  },
  {
   "cell_type": "markdown",
   "id": "catholic-tradition",
   "metadata": {},
   "source": [
    "## Johdanto tehtävävään 1, eli painotetun kolikon heitto ja z-akselin ympäri tapahtuva kierto\n",
    "\n",
    "Tarkastellaan yhden kubitin kvanttipiiriä, jonka avulla halutaan toteuttaa kruuna (kubitin tila |1>) klaava ( kubitin tila |0>) kolikonheitto siten, että lopputuloksen |1> todennäköisyys on $\\frac{2}{3}$ ja tilan |0> todennäköisyys $\\frac{1}{3}$. Olkoon kubitin alkutila $1|0>+ 0|1>$.\n",
    "\n",
    "Kubitin tilan mittaustulosta eli arvojen |0>  tai  |1> esiintymistodennäköisyyksiä voidaan muuttaa ja säätää halutuksi $R_y$-kvanttiportilla, joka vastaa kubitin kiertoa Blochin pallolla y-akselin ympäri. Kun alkutilassa |0> olevaa kubittia kierretään $R_y$-portilla, muuttuvat samalla kubitin tilavektorin kertoimet eli todennäköisyydet. Esimerkiksi, jos kubitin tila $R_y$-kierron jälkeen on $\\frac{\\sqrt{6}}{3} |0>+ \\frac{1}{\\sqrt{3}}|1>$, niin\n",
    "\n",
    "\n",
    "\n",
    "tarkoittaa tämä, että kubitin tilavektorin kärki on Blochin pallolla ”lähempänä” tilaa |0> ja lopputilojen todennäköisyydet\n",
    "\n",
    "$P(0)=(\\frac{\\sqrt{6}}{3})^2 = \\frac{2}{3}$ ja $P(1)=(\\frac{1}{\\sqrt{3}})^2 = \\frac{1}{3}$. Mohdollisten tilojen  todennäköisyyksien summa säilyy: $P(0)+P(1)=\\frac{2}{3} +\\frac{1}{3} = 1 $.\n",
    "\n",
    "\n",
    "\n",
    "\n",
    "Ry-porttin vaikutus pystyvektorin tilaan voidaan kuvata kiertomatriisilla:\n",
    "![Ry_matriisi](images/Ry_matriisi.png)\n",
    "\n",
    "missä kulma $\\theta$ ilmaisee kuinka suuri kierto on tehty y-akselin ympäri. Operoidaan Ry-kiertomatriisilla kubitin alkutilaan |0>:\n",
    "![Ry_tulo](images/Ry_tulo.png)\n",
    "\n",
    "Kierron jälkeen kubitin tila voidaan esittää siis muodossa\n",
    "![state3](images/state3.png)\n",
    "\n",
    "Nyt voidaan ratkaista kiertokulma $\\theta$ kubitin tilojen |0> ja |1>  todennäköisyyksistä\n",
    "![Ry_tn](images/Ry_tn.png)\n",
    "\n",
    "eli \n",
    "\n",
    "![Ry_tn3](images/Ry_tn3.png)\n",
    "\n",
    "Ry-portilla toteutetaan siis 1.91 radiaanin eli  109 asteen kierto y-akselin ympäri. Alla on esimerkin yhden kubitin piirin toteutus pyhtonilla. Koodissa luodaan yhden kubitin kvanttipiiri, kierrettään tilavektoria ja simuloidaan piirin toiminta. Lopuksi piirretään mittaustulosten todennäköisyyjakauma. $R_y$ portin toteutus qiskitissä on metodi `circuit.ry(theta)`."
   ]
  },
  {
   "cell_type": "code",
   "execution_count": 4,
   "id": "hawaiian-weather",
   "metadata": {},
   "outputs": [],
   "source": [
    "from qiskit import *\n",
    "import math\n",
    "\n",
    "# Luodaan kvanttipiiri muuttujaan circ, jossa on yksi kubitti (diagrammissa q).\n",
    "quantum_register = QuantumRegister(1)\n",
    "classical_register = ClassicalRegister(1)\n",
    "circuit = QuantumCircuit(quantum_register, classical_register)  # kubitin alkutila on |0>\n"
   ]
  },
  {
   "cell_type": "code",
   "execution_count": 5,
   "id": "controlling-proxy",
   "metadata": {},
   "outputs": [
    {
     "data": {
      "text/plain": [
       "<qiskit.circuit.instructionset.InstructionSet at 0x7fc01947bee0>"
      ]
     },
     "execution_count": 5,
     "metadata": {},
     "output_type": "execute_result"
    }
   ],
   "source": [
    "circuit.ry(2 * math.asin(math.sqrt(2/3)), 0)"
   ]
  },
  {
   "cell_type": "code",
   "execution_count": 6,
   "id": "removed-hello",
   "metadata": {},
   "outputs": [
    {
     "data": {
      "image/png": "[encoded data removed]",
      "text/plain": [
       "<Figure size 504x360 with 1 Axes>"
      ]
     },
     "execution_count": 6,
     "metadata": {},
     "output_type": "execute_result"
    }
   ],
   "source": [
    "circuit.measure(quantum_register, classical_register)\n",
    "simulator = Aer.get_backend('qasm_simulator')\n",
    "execute(circuit, backend=simulator)\n",
    "result = execute(circuit, backend=simulator).result()\n",
    "from qiskit.tools.visualization import plot_histogram\n",
    "plot_histogram(result.get_counts(circuit))"
   ]
  },
  {
   "cell_type": "markdown",
   "id": "domestic-search",
   "metadata": {},
   "source": [
    "## Tehtävä 1\n",
    "\n",
    "a) Mihin kulmaan kubitin tilavektori on kierrettävä $R_y$-portilla, jos lopputilan |1> todennäköisyydeksi halutaan $\\frac{3}{4}$?\n",
    "\n",
    "b) Simuloi a-kohdan piirin toiminta ja piirrä todennäköisyysjakauma pylväsdiagrammina.\n"
   ]
  },
  {
   "cell_type": "markdown",
   "id": "included-foster",
   "metadata": {},
   "source": [
    "## Tehtävä 2 yhden kubitin S ja T-portit\n",
    "\n",
    "Tutki <a href=\"https://bloch.ollpu.fi/\" target=\"_blank\">Blochin palloa kuvaavan simulaation avulla </a> kuinka S-portti kiertää alukutilassa |0> olevaa kubittia $\\pi/2$ eli $90$ astetta z-akselin ympäri. S-portin matriisi esitys on seuraava: \n",
    "![s-portti](images/s-portti.png)\n",
    "\n",
    "a) Tutki simulaatiolla, ja laske pythonin avulla, $SS |0> = Z |0>$, missä Z-portti on:\n",
    "![s-portti](images/z-portti.png)\n",
    "\n",
    "Tulos tarkoittaa, että kaksi peräkkäistä S-portin operaatiota vastaa yhteensä 180 kiertoa."
   ]
  },
  {
   "cell_type": "code",
   "execution_count": 14,
   "id": "minus-pharmacology",
   "metadata": {},
   "outputs": [],
   "source": [
    "# laske a-kohdan tulot tähän pythonilla, katso esimerkkiä kierroksen 1 ratkaisuista. \n",
    "# matriisin ja pystyvektorin tulossa kertomerkki on @\n",
    "import numpy as np\n",
    "import math\n",
    "\n",
    "z = complex(0,math.pi) # Määritellään kompleksiluku i*pi, reaaliosa on 0\n",
    "S =  np.array([[1, 0],[0, np.exp(z/2)]]) #np.exp() on eksponenttifunktion kantalukuna käytetty Neperin luku e.\n",
    "\n",
    "# määritellään pystyvektorina kubitin kvanttitila 0:\n",
    "q0 = np.array([[1],[0]])\n",
    "\n",
    "# Laske tähän SS|0> . Matriisien kertomerkki on @ "
   ]
  },
  {
   "cell_type": "markdown",
   "id": "suspected-limitation",
   "metadata": {},
   "source": [
    "b) Tutki <a href=\"https://bloch.ollpu.fi/\" target=\"_blank\">Blochin palloa kuvaavan simulaation avulla </a> kuinka T-portti \n",
    "kiertää alukutilassa |0> olevaa kubittia $\\pi/4$ eli $45$ astetta z-akselin ympäri. T-portin matriisi esitys on seuraava: \n",
    "![s-portti](images/t-portti.png)\n",
    "\n",
    "Alla on S ja T-portin toteutus qiskit-kirjastossa:"
   ]
  },
  {
   "cell_type": "code",
   "execution_count": 16,
   "id": "ongoing-moore",
   "metadata": {},
   "outputs": [
    {
     "data": {
      "text/html": [
       "<pre style=\"word-wrap: normal;white-space: pre;background: #fff0;line-height: 1.1;font-family: &quot;Courier New&quot;,Courier,monospace\">     ┌───┐\n",
       "q_0: ┤ S ├\n",
       "     └───┘</pre>"
      ],
      "text/plain": [
       "     ┌───┐\n",
       "q_0: ┤ S ├\n",
       "     └───┘"
      ]
     },
     "execution_count": 16,
     "metadata": {},
     "output_type": "execute_result"
    }
   ],
   "source": [
    "qc1 = QuantumCircuit(1)\n",
    "qc1.s(0) # operoidaan S-portilla kubittiin\n",
    "qc1.draw()"
   ]
  },
  {
   "cell_type": "code",
   "execution_count": 18,
   "id": "manufactured-swedish",
   "metadata": {},
   "outputs": [
    {
     "data": {
      "text/html": [
       "<pre style=\"word-wrap: normal;white-space: pre;background: #fff0;line-height: 1.1;font-family: &quot;Courier New&quot;,Courier,monospace\">     ┌───┐\n",
       "q_0: ┤ T ├\n",
       "     └───┘</pre>"
      ],
      "text/plain": [
       "     ┌───┐\n",
       "q_0: ┤ T ├\n",
       "     └───┘"
      ]
     },
     "execution_count": 18,
     "metadata": {},
     "output_type": "execute_result"
    }
   ],
   "source": [
    "qc2 = QuantumCircuit(1)\n",
    "qc2.t(0)  # Operoidaan T-portilla kubittiin\n",
    "qc2.draw()"
   ]
  },
  {
   "cell_type": "markdown",
   "id": "considerable-seminar",
   "metadata": {},
   "source": [
    "## Tehtävä 3\n",
    "\n",
    "Tehtävät 1 - 3 käsittelivät yhden kubitin systeemiä. Seuraavassa kahdessa tehtävässä tarkastelemme controlled NOT -porttia ($\\mathit{CNOT}$), joka on kahden kubitin välinen operaatio. Kahden kubitin kvanttipiirissä systeemin tila esitetään seuraavilla kantavektoreilla:\n",
    "\n",
    "$$\n",
    "\\ket{00},\\ \\ket{01},\\ \\ket{10},\\ \\ket{11}, \n",
    "$$\n",
    "\n",
    "missä \n",
    "\n",
    "$$\n",
    "\\ket{00}=\\pmatrix{1 \\\\ 0 \\\\ 0 \\\\0},\\ \\ket{01}=\\pmatrix{0 \\\\ 1 \\\\ 0 \\\\0},\\ \n",
    "\\ket{10}=\\pmatrix{0 \\\\ 0 \\\\ 1 \\\\0},\\ \\ket{11}=\\pmatrix{0 \\\\ 0 \\\\ 0 \\\\1}.\n",
    "$$\n",
    "\n",
    "$\\mathit{CNOT}$-portin operoidessa ensimmäinen qubitti on ns. ohjaava kubitti (control qubi1t), ja jälkimmäinen on kohdekubitti (target qubit). $\\mathit{CNOT}$ vaikuttaa koko systeemin tilaan seuraavasti:\n",
    "\n",
    "$$\n",
    "\\ket{00} \\rightarrow  \\ket{00}   \\\\\n",
    "\\ket{01} \\rightarrow  \\ket{01}   \\\\\n",
    "\\ket{10} \\rightarrow  \\ket{11}   \\\\\n",
    "\\ket{11} \\rightarrow  \\ket{10}   \\\\\n",
    "$$\n",
    "\n",
    "Tulos tarkoittaa, että jos ensimmäinen, ns. ohjaava kubitti on $0$, niin kohdekubitin tila ei muutu. Jos ohjaavakubitti $1$, niin kohdekubitin tila muuttuu. \n",
    "\n",
    "$\\mathit{CNOT}$-portin matriisiesitys on seuraava:\n",
    "\n",
    "$$\n",
    "\\mathit{CNOT} = \\pmatrix {1 & 0 & 0 & 0 \\\\ 0 & 1 & 0 & 0\\\\ 0 & 0 & 0 & 1 \\\\ 0 & 0 & 1 & 0} \n",
    "$$\n",
    "\n",
    "Huomaa, että vaikka matriisia merkitään monella kirjaimella, se ei ole monen matriisin tulo.\n",
    "\n",
    "Piirrosmerkki, jossa ylempänä esitetty kubitti on ohjaava, ja alempi toimii kohteena:\n",
    "\n",
    "![cnot](https://ollpu.fi/kvanttilaskenta-static/cnot.png)\n",
    "\n",
    "a) Laske CNOT-matriisin ja 2 kubitin tilaa kuvaavan pystyvektorin tulo, ja osoita että \n",
    "\n",
    "$$\n",
    "\\ket{01} \\rightarrow  \\ket{01} \\text{eli laske tulo  } \\mathit{CNOT} \\ket{01}  \\\\\n",
    "\\ket{10} \\rightarrow  \\ket{11}  \\text{eli laske tulo  } \\mathit{CNOT} \\ket{10} \\\\\n",
    "$$\n",
    "\n",
    "\n",
    "<a href=\"https://youtu.be/rLF-oHaXLtE\" target=\"_blank\">ohjevideo CNOT-portin toiminnasta</a>\n",
    "\n"
   ]
  },
  {
   "cell_type": "code",
   "execution_count": 22,
   "id": "lined-weight",
   "metadata": {},
   "outputs": [],
   "source": [
    "import numpy as np\n",
    "\n",
    "CNOT =  np.array([[1,0, 0,0],[0, 1, 0,0], [0, 0, 0,1], [0, 0, 1,0]])\n",
    "\n",
    "# määritellään pystyvektorina kubitin kvanttitila |00>:\n",
    "q00 = np.array([[1],[0],[0],[0]])\n",
    "\n",
    "# määritellään pystyvektorina kubitin kvanttitila |01>:\n",
    "q01 = np.array([[0],[1],[0],[0]])\n",
    "\n",
    "# |10>\n",
    "q10 = np.array([[0],[0],[1],[0]])\n",
    "\n",
    "# |11>\n",
    "\n",
    "q11 = np.array([[0],[0],[1],[0]])\n",
    "# matriisin ja pystyvektorin tulo numpyssä on @ merkki"
   ]
  },
  {
   "cell_type": "markdown",
   "id": "editorial-steering",
   "metadata": {},
   "source": [
    " b)-kohta: Suorita alla olevat qiskit koodit, joiden avulla on ohjelmoitu kahden kubitin kvanttipiiri, jossa on CNOT-portti. Simuloi piiri, ja tunnista missä tilanteissa ohjaavakubitti vaihtaa kohdekubitin tilaa. Vertaa piirin toimintaa ket-merkintään:\n",
    " \n",
    " $$\n",
    "\\ket{01} \\rightarrow  \\ket{01} \\text{eli laske tulo  } \\mathit{CNOT} \\ket{01}  \\\\\n",
    "\\ket{10} \\rightarrow  \\ket{11}  \\text{eli laske tulo  } \\mathit{CNOT} \\ket{10} \\\\\n",
    "$$\n"
   ]
  },
  {
   "cell_type": "code",
   "execution_count": 23,
   "id": "spanish-parker",
   "metadata": {},
   "outputs": [
    {
     "data": {
      "image/png": "[encoded data removed]",
      "text/plain": [
       "<Figure size 99.7234x204.68 with 1 Axes>"
      ]
     },
     "execution_count": 23,
     "metadata": {},
     "output_type": "execute_result"
    }
   ],
   "source": [
    "# Valmis esimerkkikoodi tehtävään 1 suoritettavaksi.\n",
    "# Etene vaiheittain, suorita koodilohkot painamalla Run-nappia ylhäältä.\n",
    "\n",
    "from qiskit import *\n",
    "\n",
    "quantum_register = QuantumRegister(2)\n",
    "classical_register = ClassicalRegister(2)\n",
    "circuit = QuantumCircuit(quantum_register, classical_register)\n",
    "\n",
    "%matplotlib inline\n",
    "circuit.draw(output='mpl')"
   ]
  },
  {
   "cell_type": "code",
   "execution_count": 24,
   "id": "bottom-massage",
   "metadata": {},
   "outputs": [
    {
     "data": {
      "image/png": "[encoded data removed]",
      "text/plain": [
       "<Figure size 159.923x204.68 with 1 Axes>"
      ]
     },
     "execution_count": 24,
     "metadata": {},
     "output_type": "execute_result"
    }
   ],
   "source": [
    "# Lisätään Hadamard-portti H \n",
    "circuit.h(quantum_register[0])\n",
    "circuit.draw(output='mpl')"
   ]
  },
  {
   "cell_type": "code",
   "execution_count": 25,
   "id": "mediterranean-underground",
   "metadata": {},
   "outputs": [
    {
     "data": {
      "image/png": "[encoded data removed]",
      "text/plain": [
       "<Figure size 220.123x204.68 with 1 Axes>"
      ]
     },
     "execution_count": 25,
     "metadata": {},
     "output_type": "execute_result"
    }
   ],
   "source": [
    "# Lisätään kvanttipiiriin CNOT-portti cx()-komennolla\n",
    "circuit.cx(quantum_register[0], quantum_register[1])\n",
    "circuit.draw(output='mpl')"
   ]
  },
  {
   "cell_type": "code",
   "execution_count": 26,
   "id": "ideal-machinery",
   "metadata": {},
   "outputs": [
    {
     "data": {
      "image/png": "[encoded data removed]",
      "text/plain": [
       "<Figure size 340.523x204.68 with 1 Axes>"
      ]
     },
     "execution_count": 26,
     "metadata": {},
     "output_type": "execute_result"
    }
   ],
   "source": [
    "# Mitataan molemmat kubitit, ja tallennetaan tulokset klassiseen rekisteriin\n",
    "circuit.measure(quantum_register, classical_register)\n",
    "circuit.draw(output='mpl')"
   ]
  },
  {
   "cell_type": "code",
   "execution_count": 27,
   "id": "minute-result",
   "metadata": {},
   "outputs": [
    {
     "data": {
      "image/png": "[encoded data removed]",
      "text/plain": [
       "<Figure size 504x360 with 1 Axes>"
      ]
     },
     "execution_count": 27,
     "metadata": {},
     "output_type": "execute_result"
    }
   ],
   "source": [
    "# Simuloidaan piirin toiminta.\n",
    "simulator = Aer.get_backend('qasm_simulator')\n",
    "execute(circuit, backend=simulator)\n",
    "result = execute(circuit, backend=simulator).result()\n",
    "from qiskit.tools.visualization import plot_histogram\n",
    "plot_histogram(result.get_counts(circuit))"
   ]
  },
  {
   "cell_type": "markdown",
   "id": "mechanical-midnight",
   "metadata": {},
   "source": [
    "Perustele tähän lyhyesti miksi saamme vain tuloksia 00 ja 11? Mitä tarkoittaa kahden ohjaavan kubitin ja kohdekubitin lomittuminen?"
   ]
  },
  {
   "cell_type": "markdown",
   "id": "flexible-trading",
   "metadata": {},
   "source": [
    "## Tehtävä 4\n",
    "Tehtävässä kaksi tutustutaan yleiseen kvanttipiirin avulla toteutettuun kvanttitilan teleportaatioon.\n",
    "\n",
    "### Quantum teleportation eli kvanttiteleportaatio ja kubittien lomittuminen\n",
    "Kvanttiteleportaation avulla voidaan siirtää kubitin tila fyysisesti kauas tietyillä esivalmisteluilla. Kvanttiteleportaatio perustuu kubittien lomittumiseen, eli kubittien väliseen kytkentään kvanttisysteemissä.\n",
    "\n",
    "![teleportation](images/teleportation.png)\n",
    "\n",
    "Kuvan kvanttipiirissä siirretään kubitin 0 tila kubitiin 2, paikasta A paikkaan B. Alla aiheesta tutoriaalivideo.\n",
    "\n",
    "Ensin luodaan kubitin 1 ja 2 välille ns. Bellin pari eli lomitus Hadamard- ja CNOT-porttien avulla. Tämä pari luodaan esimerkiksi paikassa A, jonka jälkeen kubitti 2 siiretään fysisesti paikkaan B. \n",
    "\n",
    "Kun kubitin 0 tila halutaan siirtää kubitiin 2, niin paikassa A suoritetaan sarja operaatiota kubiteille 0 ja 1.  \n",
    "\n",
    "Kubittien 0 ja 1 tilat mitatataan ja klassiset mittaustulokset lähetetään paikkaan B.\n",
    "\n",
    "Mittaustuloksista riippuen paikassa B tehdään eri sarja operaatioita kubitille 2. Lopputuloksena kubitin 2 tila on sama kuin kubitin 0 alkuperäinen tila.\n",
    "\n",
    "\n",
    "a) Katso tutoriaalivideo ja rakenna 3:n kubitin systeemi. Simuloi piirin toiminta.\n",
    "\n",
    "Tutoriaalivideo:\n",
    "<a href=\"https://youtu.be/mMwovHK2NrE\" target=\"_blank\">Kvanttiteleportaation qiskit-tutoriaali</a>\n",
    "\n",
    "Videossa lähetetään ensin tila $\\ket 1$ kubitista 0 kubittiin 2. Tämä tila saadaan aikaan yhdellä X-portilla alussa.\n",
    "\n",
    "Lopun mittaustuloksissa nähdään ainoastaan tiloja, joissa kubitti 2 (binäärimerkkijonon ensimmäinen merkki) on 1, eli tila näyttäisi siirtyneen oikein. Muut kaksi bittiä ovat sattumanvaraisia.\n",
    "\n",
    "b) Luo piiri uudestaan erilaisella alkutilalla, ja tutki tuloksia.\n",
    "Jos muokkaat alkuperäistä koodia, aja jokainen solu uudestaan järjestyksessä, jotta saat uuden piirin.\n",
    "\n",
    "Kirjaa saamasi tulokset muistiin esimerkiksi alle.\n",
    "\n",
    "**OHJE:**\n",
    "Jos sinulla on vaikeuksia koodata tutoriaalivideon avulla, niin voit käyttää apuna alla olevissa koodisolouissa olevaa valmista koodia."
   ]
  },
  {
   "cell_type": "code",
   "execution_count": null,
   "id": "critical-highway",
   "metadata": {},
   "outputs": [],
   "source": [
    "from qiskit import *\n",
    "# QUBIT ORDERING\n",
    "# q0 = State |psi> that we want to teleport\n",
    "# q1 = Alice's half of the Bell pair\n",
    "# q2 = Bob's half of the Bell pair, the destination of the teleportation\n",
    "\n",
    "circuit = QuantumCircuit(3,3)\n",
    "%matplotlib inline\n",
    "circuit.draw(output='mpl')"
   ]
  },
  {
   "cell_type": "code",
   "execution_count": null,
   "id": "herbal-momentum",
   "metadata": {},
   "outputs": [],
   "source": [
    "# Step 0: Create the state to be teleported in qubit 0\n",
    "circuit.x(0) # qubit 0 is now in state |1>, and this is the state that we want to teleport\n",
    "circuit.barrier()\n",
    "circuit.draw(output='mpl')"
   ]
  },
  {
   "cell_type": "code",
   "execution_count": null,
   "id": "prostate-brazilian",
   "metadata": {},
   "outputs": [],
   "source": [
    "# Step 1: create an entangled Bell pair between Alice and Bob (qubits 1 and 2)\n",
    "circuit.h(1)\n",
    "circuit.cx(1,2)\n",
    "circuit.draw(output='mpl')"
   ]
  },
  {
   "cell_type": "code",
   "execution_count": null,
   "id": "christian-moscow",
   "metadata": {},
   "outputs": [],
   "source": [
    "circuit.cx(0,1)\n",
    "circuit.h(0)\n",
    "circuit.draw(output='mpl')"
   ]
  },
  {
   "cell_type": "code",
   "execution_count": null,
   "id": "silver-zimbabwe",
   "metadata": {},
   "outputs": [],
   "source": [
    "# Step 3: Alice measures both qubits 0 and 1\n",
    "circuit.barrier()\n",
    "circuit.measure([0, 1], [0, 1]) # results stored in classical bits 0 and 1\n",
    "circuit.draw(output='mpl')"
   ]
  },
  {
   "cell_type": "code",
   "execution_count": null,
   "id": "equal-directive",
   "metadata": {},
   "outputs": [],
   "source": [
    "circuit.barrier()\n",
    "# Step 4: Now that Alice has measured the two qubits, their states have collapsed to 0 and 1. \n",
    "# Bob can do operations conditioned on these qubits to his half of the Bell pair\n",
    "# Note that while we're conditioning Bob's operation on the collapsed qubits 0 and 1, we can\n",
    "# do teleportation over long distances by transmitting the classical information in classical bits 0 and 1\n",
    "circuit.cx(1, 2)\n",
    "circuit.cz(0, 2)\n",
    "circuit.draw(output='mpl')"
   ]
  },
  {
   "cell_type": "code",
   "execution_count": null,
   "id": "upper-decision",
   "metadata": {},
   "outputs": [],
   "source": [
    "# Step 5: Done! Measure Bob's qubit to find out what state it is in\n",
    "circuit.measure([2], [2])\n",
    "circuit.draw(output='mpl')"
   ]
  },
  {
   "cell_type": "code",
   "execution_count": null,
   "id": "industrial-nylon",
   "metadata": {},
   "outputs": [],
   "source": [
    "print(counts)"
   ]
  },
  {
   "cell_type": "markdown",
   "id": "practical-underwear",
   "metadata": {},
   "source": [
    "## Vapaaehtoinen lisätehtävä 5\n",
    "Tutustu qiskitin tutoriaalin kohtiin 1 ja 2, jossa käsitellään monen kubitin systeemejä. Lataa Jupyter-notebook linkistä. Tiedosto löytyy valmiina koodikoulu.net-palvelusta.\n",
    "\n",
    "<a href =\"https://qiskit.org/textbook/content/ch-gates/multiple-qubits-entangled-states.ipynb\">Qiskitin tutoriaali</a>"
   ]
  },
  {
   "cell_type": "code",
   "execution_count": null,
   "id": "effective-laptop",
   "metadata": {},
   "outputs": [],
   "source": []
  }
 ],
 "metadata": {
  "kernelspec": {
   "display_name": "Python 3",
   "language": "python",
   "name": "python3"
  },
  "language_info": {
   "codemirror_mode": {
    "name": "ipython",
    "version": 3
   },
   "file_extension": ".py",
   "mimetype": "text/x-python",
   "name": "python",
   "nbconvert_exporter": "python",
   "pygments_lexer": "ipython3",
   "version": "3.9.1"
  }
 },
 "nbformat": 4,
 "nbformat_minor": 5
}
